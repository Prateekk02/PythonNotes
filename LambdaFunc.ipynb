{
 "cells": [
  {
   "cell_type": "markdown",
   "id": "1ba35299-4dff-4c05-b4cb-b3296559fbc7",
   "metadata": {},
   "source": [
    "# Lambda Function"
   ]
  },
  {
   "cell_type": "code",
   "execution_count": 1,
   "id": "7fcdf69c-fcfc-41d1-96ce-ab77416ed296",
   "metadata": {},
   "outputs": [],
   "source": [
    "n = 3\n",
    "p = 2 "
   ]
  },
  {
   "cell_type": "code",
   "execution_count": 2,
   "id": "38dc0c69-f148-4bae-a102-9f481e8addc7",
   "metadata": {},
   "outputs": [],
   "source": [
    "# Function to calculate n^p\n",
    "def test(n,p):\n",
    "    return(n**p)"
   ]
  },
  {
   "cell_type": "code",
   "execution_count": 3,
   "id": "7e8dbbb6-8553-492a-bf21-3ba2024f180e",
   "metadata": {},
   "outputs": [
    {
     "data": {
      "text/plain": [
       "9"
      ]
     },
     "execution_count": 3,
     "metadata": {},
     "output_type": "execute_result"
    }
   ],
   "source": [
    "test(3,2)"
   ]
  },
  {
   "cell_type": "code",
   "execution_count": 5,
   "id": "c7e35886-1803-4035-9463-4df8beb66b8b",
   "metadata": {},
   "outputs": [],
   "source": [
    "#using Lamda Function\n",
    "a = lambda n,p:n**p  #Lambda , one liner, anonymous function"
   ]
  },
  {
   "cell_type": "code",
   "execution_count": 7,
   "id": "befbfc86-19e5-46f9-8a0b-e9e7aa35ac74",
   "metadata": {},
   "outputs": [
    {
     "data": {
      "text/plain": [
       "9"
      ]
     },
     "execution_count": 7,
     "metadata": {},
     "output_type": "execute_result"
    }
   ],
   "source": [
    "a(3,2)"
   ]
  },
  {
   "cell_type": "code",
   "execution_count": 8,
   "id": "f149d760-8af3-4c8c-ade6-0c90e40cd9ba",
   "metadata": {},
   "outputs": [],
   "source": [
    "add = lambda x,y: x+y"
   ]
  },
  {
   "cell_type": "code",
   "execution_count": 9,
   "id": "419f4471-da7a-4b76-8f79-a42debc6ca2b",
   "metadata": {},
   "outputs": [
    {
     "data": {
      "text/plain": [
       "7"
      ]
     },
     "execution_count": 9,
     "metadata": {},
     "output_type": "execute_result"
    }
   ],
   "source": [
    "add(2,5)"
   ]
  },
  {
   "cell_type": "code",
   "execution_count": 10,
   "id": "5d136467-14a5-4e7c-b1a0-4dccd1f96bf9",
   "metadata": {},
   "outputs": [],
   "source": [
    "# Program to convert celcius to ferenheit\n",
    "c_f = lambda c :(9/5)*c + 32"
   ]
  },
  {
   "cell_type": "code",
   "execution_count": 11,
   "id": "a486b019-24ff-46c4-a2a8-7b1603bc0eb9",
   "metadata": {},
   "outputs": [
    {
     "data": {
      "text/plain": [
       "91.4"
      ]
     },
     "execution_count": 11,
     "metadata": {},
     "output_type": "execute_result"
    }
   ],
   "source": [
    "c_f(33)"
   ]
  },
  {
   "cell_type": "code",
   "execution_count": 12,
   "id": "d853e4fd-f12d-49b4-8986-bc15df46e8e6",
   "metadata": {},
   "outputs": [],
   "source": [
    "# Finding maximum of two no\n",
    "mx = lambda x,y: x if x>y else y"
   ]
  },
  {
   "cell_type": "code",
   "execution_count": 14,
   "id": "b5731297-932c-41b9-ae69-aac6d9ad2aae",
   "metadata": {},
   "outputs": [
    {
     "data": {
      "text/plain": [
       "42"
      ]
     },
     "execution_count": 14,
     "metadata": {},
     "output_type": "execute_result"
    }
   ],
   "source": [
    "mx(34,42)"
   ]
  },
  {
   "cell_type": "code",
   "execution_count": 15,
   "id": "02481f73-b21a-4e97-89de-9e5e8f38a856",
   "metadata": {},
   "outputs": [],
   "source": [
    "# Program to calculate length of string using lambda function\n",
    "lth = lambda s: len(s)"
   ]
  },
  {
   "cell_type": "code",
   "execution_count": 17,
   "id": "0361a8e6-6f6e-4a9a-8125-2b5f32c941a1",
   "metadata": {},
   "outputs": [
    {
     "name": "stdin",
     "output_type": "stream",
     "text": [
      "Enter the string prateek\n"
     ]
    },
    {
     "name": "stdout",
     "output_type": "stream",
     "text": [
      "7\n"
     ]
    }
   ],
   "source": [
    "s = input(\"Enter the string\")\n",
    "print(lth(s))"
   ]
  },
  {
   "cell_type": "markdown",
   "id": "c95f95e8-eb60-460e-8846-dab61bfee93a",
   "metadata": {},
   "source": [
    "# END"
   ]
  }
 ],
 "metadata": {
  "kernelspec": {
   "display_name": "Python 3 (ipykernel)",
   "language": "python",
   "name": "python3"
  },
  "language_info": {
   "codemirror_mode": {
    "name": "ipython",
    "version": 3
   },
   "file_extension": ".py",
   "mimetype": "text/x-python",
   "name": "python",
   "nbconvert_exporter": "python",
   "pygments_lexer": "ipython3",
   "version": "3.10.8"
  }
 },
 "nbformat": 4,
 "nbformat_minor": 5
}
