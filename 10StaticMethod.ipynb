{
 "cells": [
  {
   "cell_type": "markdown",
   "id": "9d15be27-b4be-4fd3-8853-1512a38db909",
   "metadata": {},
   "source": [
    "# Static Method"
   ]
  },
  {
   "cell_type": "code",
   "execution_count": 11,
   "id": "6033dab3-f1a0-4fca-b30f-478137aa5fb9",
   "metadata": {},
   "outputs": [],
   "source": [
    "class pwskills:\n",
    "    \n",
    "    def student_details(self, name, mail, no):\n",
    "        print(name, mail, no)"
   ]
  },
  {
   "cell_type": "code",
   "execution_count": 2,
   "id": "e6868502-751b-47ae-946c-f9e614172e41",
   "metadata": {},
   "outputs": [],
   "source": [
    "pw = pwskills()"
   ]
  },
  {
   "cell_type": "code",
   "execution_count": 3,
   "id": "cab93d63-42d4-404e-bff5-70e100377015",
   "metadata": {},
   "outputs": [
    {
     "name": "stdout",
     "output_type": "stream",
     "text": [
      "darth darthvader@gmail.com 6666\n"
     ]
    }
   ],
   "source": [
    "pw.student_details('darth' , 'darthvader@gmail.com', 6666)"
   ]
  },
  {
   "cell_type": "code",
   "execution_count": 17,
   "id": "7e91d592-31af-4668-a17e-e236ebb65648",
   "metadata": {},
   "outputs": [
    {
     "ename": "TypeError",
     "evalue": "pwskills.student_details() missing 1 required positional argument: 'no'",
     "output_type": "error",
     "traceback": [
      "\u001b[0;31m---------------------------------------------------------------------------\u001b[0m",
      "\u001b[0;31mTypeError\u001b[0m                                 Traceback (most recent call last)",
      "Cell \u001b[0;32mIn[17], line 1\u001b[0m\n\u001b[0;32m----> 1\u001b[0m \u001b[43mpwskills\u001b[49m\u001b[38;5;241;43m.\u001b[39;49m\u001b[43mstudent_details\u001b[49m\u001b[43m(\u001b[49m\u001b[38;5;124;43m'\u001b[39;49m\u001b[38;5;124;43manakin\u001b[39;49m\u001b[38;5;124;43m'\u001b[39;49m\u001b[43m,\u001b[49m\u001b[43m \u001b[49m\u001b[38;5;124;43m'\u001b[39;49m\u001b[38;5;124;43manakin@gmail.com\u001b[39;49m\u001b[38;5;124;43m'\u001b[39;49m\u001b[43m,\u001b[49m\u001b[43m \u001b[49m\u001b[38;5;241;43m6666\u001b[39;49m\u001b[43m)\u001b[49m\n",
      "\u001b[0;31mTypeError\u001b[0m: pwskills.student_details() missing 1 required positional argument: 'no'"
     ]
    }
   ],
   "source": [
    "pwskills.student_details('anakin', 'anakin@gmail.com', 6666)"
   ]
  },
  {
   "cell_type": "markdown",
   "id": "3277fd44-03aa-4750-92ec-3c58ae29da37",
   "metadata": {},
   "source": [
    "#### To make a function such that it can be accessed without using any object"
   ]
  },
  {
   "cell_type": "code",
   "execution_count": 4,
   "id": "6aacda01-aa4f-4e0d-851f-e50b5ce63e89",
   "metadata": {},
   "outputs": [],
   "source": [
    "class pwskills1:\n",
    "    \n",
    "    def student_details(self, name, mail, no):  # func1\n",
    "        print(name, mail, no)\n",
    "    @staticmethod\n",
    "    def mentor_class(list_mentor):   # func2\n",
    "        print(list_mentor)"
   ]
  },
  {
   "cell_type": "code",
   "execution_count": 6,
   "id": "cf3d65de-8cf6-4832-a7be-c60152e5b574",
   "metadata": {},
   "outputs": [
    {
     "name": "stdout",
     "output_type": "stream",
     "text": [
      "['Qui-gon', 'Obi-Wan']\n"
     ]
    }
   ],
   "source": [
    "pwskills1.mentor_class(['Qui-gon', 'Obi-Wan'])"
   ]
  },
  {
   "cell_type": "markdown",
   "id": "45b0dcc3-1a89-4ecd-a321-488e5cae774d",
   "metadata": {},
   "source": [
    "- Static method is used to create utilities."
   ]
  },
  {
   "cell_type": "markdown",
   "id": "029b2216-e33c-434e-8c67-cd9e0d394da9",
   "metadata": {},
   "source": [
    "- Func1 can be accessed only using object while as func2 can be accessed without using object with the help of static method"
   ]
  },
  {
   "cell_type": "code",
   "execution_count": 18,
   "id": "0f33faaf-267b-4dfd-8906-ddbe67b577a5",
   "metadata": {},
   "outputs": [],
   "source": [
    "# Explaination\n",
    "class pwskills1:\n",
    "    \n",
    "    def student_details(self, name, mail, no):  # func1\n",
    "        print(name, mail, no)\n",
    "    @staticmethod\n",
    "    def mentor_class(list_mentor):   # func2\n",
    "        print(list_mentor)\n",
    "        \n",
    "    def mentor(self, mentor_list):   #func3\n",
    "        print(mentor_list)"
   ]
  },
  {
   "cell_type": "markdown",
   "id": "2cb62641-683c-4011-8a35-755f0dedb212",
   "metadata": {},
   "source": [
    "In the above class if their are thousands of objects than their will be thousands of copy of func1 and func 3 but no such thing will happen for func2."
   ]
  },
  {
   "cell_type": "markdown",
   "id": "4abe37b1-0cf1-4958-afb1-c86951cd84c4",
   "metadata": {},
   "source": [
    "- In short static method reduces memory consumption"
   ]
  },
  {
   "cell_type": "markdown",
   "id": "596ce99a-0a56-4d9a-a762-f9f3b4b11ad8",
   "metadata": {},
   "source": [
    "- It is good to create static method if it is required for more no. of times."
   ]
  },
  {
   "cell_type": "markdown",
   "id": "a03e6f1b-73db-42ff-ad87-e142818c2d99",
   "metadata": {},
   "source": [
    "### To use static method inside a class method"
   ]
  },
  {
   "cell_type": "code",
   "execution_count": 18,
   "id": "adb8d96b-ea14-471c-9a9f-5e3bf83b9301",
   "metadata": {},
   "outputs": [],
   "source": [
    "class pwskills2:\n",
    "    \n",
    "    def student_details(self, name, mail, no):  # func1\n",
    "        print(name, mail, no)\n",
    "    @staticmethod\n",
    "    def mentor_mail(mail_id_mentor):\n",
    "        print(mail_id_mentor)\n",
    "        \n",
    "    @staticmethod\n",
    "    def mentor_class(list_mentor):    # func2\n",
    "        pwskills2.mentor_mail(['obiwan@gmail.com', 'quigon@gmail.com', 'yoda@gmail.com'])\n",
    "        print(list_mentor)\n",
    "        \n",
    "    @classmethod\n",
    "    def class_name(cls):\n",
    "        cls.mentor_class(['Obi-Wan', ' Qui-gon', 'Yoda'])\n",
    "        \n",
    "    def mentor(self, mentor_list):   #func3\n",
    "        print(mentor_list)\n",
    "        self.mentor_class(['Obiwan', 'Yoda'])"
   ]
  },
  {
   "cell_type": "code",
   "execution_count": 19,
   "id": "e66eccb9-53bc-4d35-bf2c-ca00701f716a",
   "metadata": {},
   "outputs": [
    {
     "name": "stdout",
     "output_type": "stream",
     "text": [
      "['obiwan@gmail.com', 'quigon@gmail.com', 'yoda@gmail.com']\n",
      "['Obi-Wan', ' Qui-gon', 'Yoda']\n"
     ]
    }
   ],
   "source": [
    "pwskills2.class_name()"
   ]
  },
  {
   "cell_type": "code",
   "execution_count": 20,
   "id": "c3a4d35b-5611-45ee-a30d-9d517225a9be",
   "metadata": {},
   "outputs": [
    {
     "name": "stdout",
     "output_type": "stream",
     "text": [
      "['obiwan@gmail.com', 'quigon@gmail.com', 'yoda@gmail.com']\n",
      "['Obi-Wan', 'Qui-gon', 'yoda']\n"
     ]
    }
   ],
   "source": [
    "pwskills2.mentor_class(['Obi-Wan', 'Qui-gon', 'yoda'])   # Calling static method inside a static method."
   ]
  },
  {
   "cell_type": "code",
   "execution_count": 21,
   "id": "356898ed-00c6-4f57-b9ad-b8256e3fd269",
   "metadata": {},
   "outputs": [],
   "source": [
    "pw = pwskills2()"
   ]
  },
  {
   "cell_type": "code",
   "execution_count": 22,
   "id": "0dad1df9-0962-46c0-8573-13d0557a53ee",
   "metadata": {},
   "outputs": [
    {
     "name": "stdout",
     "output_type": "stream",
     "text": [
      "['Obi-wan', 'Yoda']\n",
      "['obiwan@gmail.com', 'quigon@gmail.com', 'yoda@gmail.com']\n",
      "['Obiwan', 'Yoda']\n"
     ]
    }
   ],
   "source": [
    "pw.mentor(['Obi-wan', 'Yoda'])  # Calling static method inside instance method."
   ]
  },
  {
   "cell_type": "markdown",
   "id": "0e917382-f839-4a38-8869-3c11f36168d8",
   "metadata": {},
   "source": [
    "# END"
   ]
  }
 ],
 "metadata": {
  "kernelspec": {
   "display_name": "Python 3 (ipykernel)",
   "language": "python",
   "name": "python3"
  },
  "language_info": {
   "codemirror_mode": {
    "name": "ipython",
    "version": 3
   },
   "file_extension": ".py",
   "mimetype": "text/x-python",
   "name": "python",
   "nbconvert_exporter": "python",
   "pygments_lexer": "ipython3",
   "version": "3.10.8"
  }
 },
 "nbformat": 4,
 "nbformat_minor": 5
}
