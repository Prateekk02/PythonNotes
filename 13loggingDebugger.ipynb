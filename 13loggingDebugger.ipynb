{
 "cells": [
  {
   "cell_type": "markdown",
   "id": "593f60d1-48d1-4fd4-90a7-fe1c5984ec52",
   "metadata": {},
   "source": [
    "# Logging Debugger"
   ]
  },
  {
   "cell_type": "code",
   "execution_count": 1,
   "id": "fffc77d7-e932-459f-a835-3b2ffdce08c7",
   "metadata": {},
   "outputs": [
    {
     "data": {
      "text/plain": [
       "'/home/jovyan/work/03 Files/_04Logging_debugger'"
      ]
     },
     "execution_count": 1,
     "metadata": {},
     "output_type": "execute_result"
    }
   ],
   "source": [
    "pwd"
   ]
  },
  {
   "cell_type": "code",
   "execution_count": 2,
   "id": "fb40beaf-6733-4a3b-8a49-e5c1c6561a65",
   "metadata": {},
   "outputs": [
    {
     "name": "stdout",
     "output_type": "stream",
     "text": [
      "This is my print\n"
     ]
    }
   ],
   "source": [
    "print(\"This is my print\")"
   ]
  },
  {
   "cell_type": "markdown",
   "id": "25fb7dc4-e65f-498a-bab5-0c7cf340de04",
   "metadata": {},
   "source": [
    "For Production grade code it is recommanded to use login instead of print because login stores the data for further investigation."
   ]
  },
  {
   "cell_type": "code",
   "execution_count": 18,
   "id": "47f6121e-538b-4a0c-8c08-de7a4264f98c",
   "metadata": {},
   "outputs": [],
   "source": [
    "import logging"
   ]
  },
  {
   "cell_type": "code",
   "execution_count": 4,
   "id": "356d000f-7d82-4191-a2f2-1551792a2a50",
   "metadata": {},
   "outputs": [],
   "source": [
    "logging.basicConfig(filename = 'test.log', level = logging.INFO)"
   ]
  },
  {
   "cell_type": "code",
   "execution_count": 5,
   "id": "568910a8-0cb4-402e-b4f0-f25822ee5ad3",
   "metadata": {},
   "outputs": [],
   "source": [
    "logging.info(\"Log this line of execution\")"
   ]
  },
  {
   "cell_type": "code",
   "execution_count": 6,
   "id": "7fb2502e-cffe-4d91-8854-97cabfbbc2f2",
   "metadata": {},
   "outputs": [],
   "source": [
    "logging.info(\"This is my print\")"
   ]
  },
  {
   "cell_type": "markdown",
   "id": "4da51b8d-2b13-4f7c-aeb5-70276b7a9ef7",
   "metadata": {},
   "source": [
    "- Now instead of printing the statement in the consol we are storing the output in a file for further investigation."
   ]
  },
  {
   "cell_type": "markdown",
   "id": "59041656-31d4-4138-babf-e51323d36de9",
   "metadata": {},
   "source": [
    "- Levels of logging"
   ]
  },
  {
   "cell_type": "markdown",
   "id": "34744c22-00c9-4753-ba96-47a24259a413",
   "metadata": {},
   "source": [
    "1) NOTSET\n",
    "2) DEBUG\n",
    "3) INFO\n",
    "4) WARNING\n",
    "5) ERROR\n",
    "6) CRITICAL"
   ]
  },
  {
   "cell_type": "code",
   "execution_count": 7,
   "id": "1819809c-993a-4364-b7df-25351c25c990",
   "metadata": {},
   "outputs": [],
   "source": [
    "logging.debug(\"This will not be set in the logging as it is above info\")"
   ]
  },
  {
   "cell_type": "markdown",
   "id": "09902044-4365-405d-bc49-55e3728e4a63",
   "metadata": {},
   "source": [
    "- The levels below info can be logged."
   ]
  },
  {
   "cell_type": "code",
   "execution_count": 8,
   "id": "8529a346-8aae-4c93-bba0-98cd0813647c",
   "metadata": {},
   "outputs": [],
   "source": [
    "logging.warning(\"This is the warning message\")"
   ]
  },
  {
   "cell_type": "code",
   "execution_count": 9,
   "id": "cd21951e-fc44-4579-b7df-a8b91c493f16",
   "metadata": {},
   "outputs": [],
   "source": [
    "logging.error(\"This is the error message\")"
   ]
  },
  {
   "cell_type": "code",
   "execution_count": 10,
   "id": "738d1ce6-2d74-4070-9be2-2d429ebee641",
   "metadata": {},
   "outputs": [],
   "source": [
    "logging.critical(\"This is the critical message\")"
   ]
  },
  {
   "cell_type": "code",
   "execution_count": 11,
   "id": "cc4be2d2-41bc-472e-bbcb-f5ef30848ebe",
   "metadata": {},
   "outputs": [],
   "source": [
    "logging.shutdown() # Necessary so as to save logging to other file"
   ]
  },
  {
   "cell_type": "code",
   "execution_count": 19,
   "id": "c97e60e6-a112-4c7f-a0e2-cf33249718dd",
   "metadata": {},
   "outputs": [
    {
     "data": {
      "text/plain": [
       "'/home/jovyan/work/03 Files/_04Logging_debugger'"
      ]
     },
     "execution_count": 19,
     "metadata": {},
     "output_type": "execute_result"
    }
   ],
   "source": [
    "pwd"
   ]
  },
  {
   "cell_type": "code",
   "execution_count": 20,
   "id": "6140268f-e053-4144-a6c1-8a2145084ff7",
   "metadata": {},
   "outputs": [],
   "source": [
    "logging.basicConfig(filename = 'test1.log', level = logging.DEBUG, format = '%(asctime)s % (message)s')"
   ]
  },
  {
   "cell_type": "code",
   "execution_count": 21,
   "id": "e0020e50-a03f-4b02-ba2b-52ca0944a75a",
   "metadata": {},
   "outputs": [],
   "source": [
    "logging.info(\"This is my info logging test 1\")"
   ]
  },
  {
   "cell_type": "code",
   "execution_count": null,
   "id": "191fae8c-583a-426d-a2bb-8e6ddfa67324",
   "metadata": {},
   "outputs": [],
   "source": [
    "logging.error(\"This is my error message test 1\")"
   ]
  },
  {
   "cell_type": "code",
   "execution_count": null,
   "id": "af71dd0e-a3a7-4c4f-8a2f-524131e421fd",
   "metadata": {},
   "outputs": [],
   "source": [
    "logging.critical(\"This is my critical test 1\")"
   ]
  }
 ],
 "metadata": {
  "kernelspec": {
   "display_name": "Python 3 (ipykernel)",
   "language": "python",
   "name": "python3"
  },
  "language_info": {
   "codemirror_mode": {
    "name": "ipython",
    "version": 3
   },
   "file_extension": ".py",
   "mimetype": "text/x-python",
   "name": "python",
   "nbconvert_exporter": "python",
   "pygments_lexer": "ipython3",
   "version": "3.10.8"
  }
 },
 "nbformat": 4,
 "nbformat_minor": 5
}
