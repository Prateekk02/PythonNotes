{
 "cells": [
  {
   "cell_type": "markdown",
   "id": "85d0f3f3-50b2-4e67-8f7e-958c65cd1574",
   "metadata": {},
   "source": [
    "# Map , Reduce And Filter Function"
   ]
  },
  {
   "cell_type": "markdown",
   "id": "99d6bce0-871d-4bc5-9585-296f242e2802",
   "metadata": {},
   "source": [
    "## Map()"
   ]
  },
  {
   "cell_type": "code",
   "execution_count": 1,
   "id": "3e34e6a6-4e13-4579-a544-9034a4d7e3b0",
   "metadata": {},
   "outputs": [],
   "source": [
    "l = [2,3,4,5,6]"
   ]
  },
  {
   "cell_type": "code",
   "execution_count": 2,
   "id": "74357122-5557-4bef-9a9b-b96cf043daa0",
   "metadata": {},
   "outputs": [],
   "source": [
    "def test(l):\n",
    "    l1 = []\n",
    "    for i in l:\n",
    "        l1.append(i**2)\n",
    "    return l1\n",
    "        "
   ]
  },
  {
   "cell_type": "code",
   "execution_count": 4,
   "id": "50040c15-29fc-48df-bf65-f4fa9df3cfdc",
   "metadata": {},
   "outputs": [
    {
     "data": {
      "text/plain": [
       "[4, 9, 16, 25, 36]"
      ]
     },
     "execution_count": 4,
     "metadata": {},
     "output_type": "execute_result"
    }
   ],
   "source": [
    "test(l)"
   ]
  },
  {
   "cell_type": "code",
   "execution_count": 6,
   "id": "5536dd5c-a30f-415c-b519-fbb8f024618f",
   "metadata": {},
   "outputs": [],
   "source": [
    "def sq(x):\n",
    "    return x**2"
   ]
  },
  {
   "cell_type": "code",
   "execution_count": 8,
   "id": "183b1ffe-9342-4638-bf84-0b247c136a45",
   "metadata": {},
   "outputs": [
    {
     "data": {
      "text/plain": [
       "[4, 9, 16, 25, 36]"
      ]
     },
     "execution_count": 8,
     "metadata": {},
     "output_type": "execute_result"
    }
   ],
   "source": [
    "list(map(sq, l))"
   ]
  },
  {
   "cell_type": "code",
   "execution_count": 10,
   "id": "38e54b1f-5192-4997-a981-bc6778b4e5f5",
   "metadata": {},
   "outputs": [
    {
     "data": {
      "text/plain": [
       "[4, 9, 16, 25, 36]"
      ]
     },
     "execution_count": 10,
     "metadata": {},
     "output_type": "execute_result"
    }
   ],
   "source": [
    "list(map(lambda x:x**2 , l))"
   ]
  },
  {
   "cell_type": "code",
   "execution_count": 18,
   "id": "22b492f3-708e-4705-917a-b86782707bc1",
   "metadata": {},
   "outputs": [
    {
     "data": {
      "text/plain": [
       "[7, 9, 11, 13, 15]"
      ]
     },
     "execution_count": 18,
     "metadata": {},
     "output_type": "execute_result"
    }
   ],
   "source": [
    "l1 = [1,2,3,4,5]\n",
    "l2 = [6,7,8,9,10]\n",
    "# Task is to add corresponding elements of list l1 and l2\n",
    "\n",
    "list(map(lambda x,y: x+y, l1, l2))"
   ]
  },
  {
   "cell_type": "code",
   "execution_count": 19,
   "id": "25d92e26-6df4-4e45-bfc9-15f24753a44f",
   "metadata": {},
   "outputs": [],
   "source": [
    "# Using external function for above task\n",
    "def add(x,y):\n",
    "    return x+y"
   ]
  },
  {
   "cell_type": "code",
   "execution_count": 15,
   "id": "2b0d891a-479c-4619-bea8-a651534994cc",
   "metadata": {},
   "outputs": [
    {
     "data": {
      "text/plain": [
       "[7, 9, 11, 13, 15]"
      ]
     },
     "execution_count": 15,
     "metadata": {},
     "output_type": "execute_result"
    }
   ],
   "source": [
    "list(map(add , l1, l2))"
   ]
  },
  {
   "cell_type": "code",
   "execution_count": 20,
   "id": "e83c732a-92a6-477a-81c0-4a6cc5ba6666",
   "metadata": {},
   "outputs": [
    {
     "data": {
      "text/plain": [
       "[12, 15, 18, 21, 16]"
      ]
     },
     "execution_count": 20,
     "metadata": {},
     "output_type": "execute_result"
    }
   ],
   "source": [
    "# Practice: To add three list using map() \n",
    "l3 = [5,6,7,8,1]\n",
    "list(map(lambda x,y,z: x+y+z , l1, l2 , l3))"
   ]
  },
  {
   "cell_type": "markdown",
   "id": "00647f51-46b5-4219-a054-a63865a60e30",
   "metadata": {},
   "source": [
    "- map() function just maps one item to another and perform tasks specified by the function in it."
   ]
  },
  {
   "cell_type": "code",
   "execution_count": 1,
   "id": "f5214e24-c86b-4490-b426-140a4ae85036",
   "metadata": {},
   "outputs": [
    {
     "data": {
      "text/plain": [
       "['P', 'R', 'A', 'T', 'E', 'E', 'K']"
      ]
     },
     "execution_count": 1,
     "metadata": {},
     "output_type": "execute_result"
    }
   ],
   "source": [
    "# Convert given string to upper case using map()\n",
    "s = 'prateek'\n",
    "list(map(lambda s: s.upper(), s))"
   ]
  },
  {
   "cell_type": "code",
   "execution_count": null,
   "id": "996a6e8b-d7f6-4b1d-8d6b-f7688c8b9568",
   "metadata": {},
   "outputs": [],
   "source": [
    "# Example \n",
    "l2 = input(\"Enter the list\").split()   # To convert string to list\n",
    "l2 = list(map(int, l2))  # To convert entered list into int from list\n",
    "l3 = list(filter(lambda x: x%2!=0, l2))\n",
    "print(l3)"
   ]
  },
  {
   "cell_type": "markdown",
   "id": "d5fcb183-c1c9-434e-ac19-2e59c8817230",
   "metadata": {},
   "source": [
    "## reduce()"
   ]
  },
  {
   "cell_type": "markdown",
   "id": "ef0873a2-da43-48ef-aff1-51b28617083d",
   "metadata": {},
   "source": [
    "- reduce is needed to be called from functools library. "
   ]
  },
  {
   "cell_type": "code",
   "execution_count": 25,
   "id": "38d3b3dc-a527-4dd4-8509-9c8a0bff1e80",
   "metadata": {},
   "outputs": [],
   "source": [
    "from functools import reduce"
   ]
  },
  {
   "cell_type": "code",
   "execution_count": 26,
   "id": "2256eaa1-f7c2-4495-b9cd-297bf2ceddad",
   "metadata": {},
   "outputs": [],
   "source": [
    "l = [1,2,3,4]"
   ]
  },
  {
   "cell_type": "code",
   "execution_count": 27,
   "id": "3b1b7f6e-726c-42f1-98ee-fccb970a33f1",
   "metadata": {},
   "outputs": [
    {
     "data": {
      "text/plain": [
       "10"
      ]
     },
     "execution_count": 27,
     "metadata": {},
     "output_type": "execute_result"
    }
   ],
   "source": [
    "reduce(lambda x,y: x+y,l)"
   ]
  },
  {
   "cell_type": "markdown",
   "id": "a178c4cd-8394-4a8b-ba39-7964b01b12eb",
   "metadata": {},
   "source": [
    "- reduce() collapses the whole list to perform the passed function."
   ]
  },
  {
   "cell_type": "code",
   "execution_count": 29,
   "id": "96264cc8-cb70-4622-b500-4c8371339b9b",
   "metadata": {},
   "outputs": [
    {
     "ename": "TypeError",
     "evalue": "<lambda>() missing 1 required positional argument: 'z'",
     "output_type": "error",
     "traceback": [
      "\u001b[0;31m---------------------------------------------------------------------------\u001b[0m",
      "\u001b[0;31mTypeError\u001b[0m                                 Traceback (most recent call last)",
      "Cell \u001b[0;32mIn[29], line 1\u001b[0m\n\u001b[0;32m----> 1\u001b[0m \u001b[43mreduce\u001b[49m\u001b[43m(\u001b[49m\u001b[38;5;28;43;01mlambda\u001b[39;49;00m\u001b[43m \u001b[49m\u001b[43mx\u001b[49m\u001b[43m,\u001b[49m\u001b[43my\u001b[49m\u001b[43m,\u001b[49m\u001b[43mz\u001b[49m\u001b[43m \u001b[49m\u001b[43m:\u001b[49m\u001b[43m \u001b[49m\u001b[43mx\u001b[49m\u001b[38;5;241;43m+\u001b[39;49m\u001b[43my\u001b[49m\u001b[38;5;241;43m+\u001b[39;49m\u001b[43mz\u001b[49m\u001b[43m,\u001b[49m\u001b[43m \u001b[49m\u001b[43ml\u001b[49m\u001b[43m)\u001b[49m\n",
      "\u001b[0;31mTypeError\u001b[0m: <lambda>() missing 1 required positional argument: 'z'"
     ]
    }
   ],
   "source": [
    "reduce(lambda x,y,z : x+y+z, l)"
   ]
  },
  {
   "cell_type": "markdown",
   "id": "a413729f-5269-40c5-9998-c44892f1b1df",
   "metadata": {},
   "source": [
    "- In this only two parameters can be passed"
   ]
  },
  {
   "cell_type": "code",
   "execution_count": 30,
   "id": "acf46806-b4f6-4fab-bef3-3868d0ba0a46",
   "metadata": {},
   "outputs": [
    {
     "ename": "TypeError",
     "evalue": "reduce() of empty iterable with no initial value",
     "output_type": "error",
     "traceback": [
      "\u001b[0;31m---------------------------------------------------------------------------\u001b[0m",
      "\u001b[0;31mTypeError\u001b[0m                                 Traceback (most recent call last)",
      "Cell \u001b[0;32mIn[30], line 1\u001b[0m\n\u001b[0;32m----> 1\u001b[0m \u001b[43mreduce\u001b[49m\u001b[43m(\u001b[49m\u001b[38;5;28;43;01mlambda\u001b[39;49;00m\u001b[43m \u001b[49m\u001b[43mx\u001b[49m\u001b[43m,\u001b[49m\u001b[43my\u001b[49m\u001b[43m:\u001b[49m\u001b[43m \u001b[49m\u001b[43mx\u001b[49m\u001b[38;5;241;43m+\u001b[39;49m\u001b[43my\u001b[49m\u001b[43m,\u001b[49m\u001b[43m \u001b[49m\u001b[43m[\u001b[49m\u001b[43m]\u001b[49m\u001b[43m)\u001b[49m\n",
      "\u001b[0;31mTypeError\u001b[0m: reduce() of empty iterable with no initial value"
     ]
    }
   ],
   "source": [
    "reduce(lambda x,y: x+y, [])"
   ]
  },
  {
   "cell_type": "code",
   "execution_count": 31,
   "id": "315581fe-010e-4341-8343-ce6abf61e152",
   "metadata": {},
   "outputs": [
    {
     "data": {
      "text/plain": [
       "1"
      ]
     },
     "execution_count": 31,
     "metadata": {},
     "output_type": "execute_result"
    }
   ],
   "source": [
    "reduce(lambda x,y: x+y , [1])"
   ]
  },
  {
   "cell_type": "markdown",
   "id": "3e48ce7a-1200-402a-bef2-9a613e67ed1e",
   "metadata": {},
   "source": [
    "##### - This case where only one data is passed but reduce() still works is an exceptional case."
   ]
  },
  {
   "cell_type": "code",
   "execution_count": 32,
   "id": "d63f7acd-4c87-40f7-bdfc-25e730b8b39f",
   "metadata": {},
   "outputs": [
    {
     "data": {
      "text/plain": [
       "24"
      ]
     },
     "execution_count": 32,
     "metadata": {},
     "output_type": "execute_result"
    }
   ],
   "source": [
    "reduce(lambda x,y: x*y, l)"
   ]
  },
  {
   "cell_type": "code",
   "execution_count": 33,
   "id": "f449d9a9-7859-48d9-9e83-82e3a414709d",
   "metadata": {},
   "outputs": [
    {
     "data": {
      "text/plain": [
       "4"
      ]
     },
     "execution_count": 33,
     "metadata": {},
     "output_type": "execute_result"
    }
   ],
   "source": [
    "# Find maximum no. in the list\n",
    "reduce(lambda x,y: x if x>y else y , l)"
   ]
  },
  {
   "cell_type": "markdown",
   "id": "61b15e13-6068-4b3a-9428-ce87470cf983",
   "metadata": {},
   "source": [
    "## filter()"
   ]
  },
  {
   "cell_type": "code",
   "execution_count": 3,
   "id": "436ac66d-3b2a-4359-a119-1c0c04751da5",
   "metadata": {},
   "outputs": [
    {
     "data": {
      "text/plain": [
       "[1, 2, 34, 5, 3, 6, 4, 8, 6]"
      ]
     },
     "execution_count": 3,
     "metadata": {},
     "output_type": "execute_result"
    }
   ],
   "source": [
    "l = [1,2,34,5,3,6,4,8,6]\n",
    "l"
   ]
  },
  {
   "cell_type": "code",
   "execution_count": 5,
   "id": "3c5e7af4-5a9b-495d-a231-7c8a590da656",
   "metadata": {},
   "outputs": [
    {
     "data": {
      "text/plain": [
       "[2, 34, 6, 4, 8, 6]"
      ]
     },
     "execution_count": 5,
     "metadata": {},
     "output_type": "execute_result"
    }
   ],
   "source": [
    "list(filter(lambda x:x%2 == 0, l))"
   ]
  },
  {
   "cell_type": "code",
   "execution_count": 6,
   "id": "a003f981-2ed4-44db-aa3d-742065a3b02d",
   "metadata": {},
   "outputs": [
    {
     "data": {
      "text/plain": [
       "[1, 5, 3]"
      ]
     },
     "execution_count": 6,
     "metadata": {},
     "output_type": "execute_result"
    }
   ],
   "source": [
    "list(filter(lambda x:x%2!=0, l ))"
   ]
  },
  {
   "cell_type": "code",
   "execution_count": 10,
   "id": "934b59cc-e21b-4ff0-8463-fc9403b21ee6",
   "metadata": {},
   "outputs": [
    {
     "data": {
      "text/plain": [
       "[1, -2, 3, 4, -9, -1, 3, 4, 5, -5, -6]"
      ]
     },
     "execution_count": 10,
     "metadata": {},
     "output_type": "execute_result"
    }
   ],
   "source": [
    "#Program to extract all negative and positive nos from a list\n",
    "l1 = [1,-2,3,4,-9,-1,3,4,5,-5,-6]\n",
    "l1"
   ]
  },
  {
   "cell_type": "code",
   "execution_count": 11,
   "id": "638d8954-a427-4558-b3a1-6844b5d5728b",
   "metadata": {},
   "outputs": [
    {
     "data": {
      "text/plain": [
       "[-2, -9, -1, -5, -6]"
      ]
     },
     "execution_count": 11,
     "metadata": {},
     "output_type": "execute_result"
    }
   ],
   "source": [
    "list(filter(lambda x: x<0 , l1))"
   ]
  },
  {
   "cell_type": "code",
   "execution_count": 12,
   "id": "ff3cd180-ab92-47f7-b501-1fccf8e45dbe",
   "metadata": {},
   "outputs": [
    {
     "data": {
      "text/plain": [
       "[1, 3, 4, 3, 4, 5]"
      ]
     },
     "execution_count": 12,
     "metadata": {},
     "output_type": "execute_result"
    }
   ],
   "source": [
    "list(filter(lambda x:x>=0, l1))"
   ]
  },
  {
   "cell_type": "code",
   "execution_count": 14,
   "id": "5164a9d9-5931-4ced-b0cc-d43270a52e8a",
   "metadata": {},
   "outputs": [],
   "source": [
    "l2 = ['prateek' , 'kumar', 'satna', 'bhopal', ' banglore']"
   ]
  },
  {
   "cell_type": "code",
   "execution_count": 16,
   "id": "15161813-0883-4305-9ca8-3e3c0f5d1299",
   "metadata": {},
   "outputs": [
    {
     "data": {
      "text/plain": [
       "['kumar', 'satna', 'bhopal']"
      ]
     },
     "execution_count": 16,
     "metadata": {},
     "output_type": "execute_result"
    }
   ],
   "source": [
    "# To extract those string whose lenght is lesser than 6\n",
    "list(filter(lambda x: len(x)<=6, l2))"
   ]
  },
  {
   "cell_type": "markdown",
   "id": "4254b468-62f9-40ec-ba44-8150fd5243c0",
   "metadata": {},
   "source": [
    "# END"
   ]
  }
 ],
 "metadata": {
  "kernelspec": {
   "display_name": "Python 3 (ipykernel)",
   "language": "python",
   "name": "python3"
  },
  "language_info": {
   "codemirror_mode": {
    "name": "ipython",
    "version": 3
   },
   "file_extension": ".py",
   "mimetype": "text/x-python",
   "name": "python",
   "nbconvert_exporter": "python",
   "pygments_lexer": "ipython3",
   "version": "3.10.8"
  }
 },
 "nbformat": 4,
 "nbformat_minor": 5
}
