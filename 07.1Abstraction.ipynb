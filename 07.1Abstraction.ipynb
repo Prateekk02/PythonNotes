{
 "cells": [
  {
   "cell_type": "markdown",
   "id": "7208b355-396f-46e4-b609-e2df84731745",
   "metadata": {},
   "source": [
    "# Abstration"
   ]
  },
  {
   "cell_type": "markdown",
   "id": "345f9f8b-d681-4f5d-bfa7-1e564c9b5d42",
   "metadata": {},
   "source": [
    "Used to make skeleton or blueprint of a class\n"
   ]
  },
  {
   "cell_type": "code",
   "execution_count": 2,
   "id": "b8a3a2fd-2843-49eb-b68d-0f10f9af1d8d",
   "metadata": {},
   "outputs": [],
   "source": [
    "import abc \n",
    "class pwskills:\n",
    "    @abc.abstractmethod\n",
    "    def stuents_details(self):\n",
    "        pass\n",
    "    \n",
    "    @abc.abstractmethod\n",
    "    def student_assignment(self):\n",
    "        pass\n",
    "    \n",
    "    @abc.abstractmethod\n",
    "    def student_marks(self):\n",
    "        pass"
   ]
  },
  {
   "cell_type": "code",
   "execution_count": 3,
   "id": "9acc86da-dfce-40e7-9ac0-938fb3f58ca7",
   "metadata": {},
   "outputs": [],
   "source": [
    "class student_details(pwskills):\n",
    "    \n",
    "    def student_details(self):\n",
    "        return \"This is a method for taking student details\"\n",
    "    \n",
    "    def student_assignment(self):\n",
    "        return \"This is a method for assignment details for a perticular student\"\n",
    "    \n",
    "    "
   ]
  },
  {
   "cell_type": "code",
   "execution_count": 4,
   "id": "91f048d5-2045-42af-88e6-34b03c3b4a7d",
   "metadata": {},
   "outputs": [],
   "source": [
    "class data_science_master(pwskills):\n",
    "    \n",
    "    def stuents_details(self):\n",
    "        return \"This will return a student details for data science masters\"\n",
    "    \n",
    "    def student_assignment(self):\n",
    "        return \"This will give you student assignment detail for data science masters\"\n",
    "    \n",
    "    "
   ]
  },
  {
   "cell_type": "code",
   "execution_count": 5,
   "id": "003fc98e-fb8f-4ee5-83e7-d2fffb99c214",
   "metadata": {},
   "outputs": [
    {
     "data": {
      "text/plain": [
       "'This will return a student details for data science masters'"
      ]
     },
     "execution_count": 5,
     "metadata": {},
     "output_type": "execute_result"
    }
   ],
   "source": [
    "dsm = data_science_master()\n",
    "dsm.stuents_details()\n"
   ]
  },
  {
   "cell_type": "code",
   "execution_count": 6,
   "id": "da7df81b-2228-4ea7-b6e3-6b54a8aceafc",
   "metadata": {},
   "outputs": [
    {
     "data": {
      "text/plain": [
       "'This is a method for taking student details'"
      ]
     },
     "execution_count": 6,
     "metadata": {},
     "output_type": "execute_result"
    }
   ],
   "source": [
    "sd = student_details()\n",
    "sd.student_details()"
   ]
  },
  {
   "cell_type": "markdown",
   "id": "fa3fb748-1aeb-4df5-8dcc-160bfea60f2f",
   "metadata": {},
   "source": [
    "# END"
   ]
  }
 ],
 "metadata": {
  "kernelspec": {
   "display_name": "Python 3 (ipykernel)",
   "language": "python",
   "name": "python3"
  },
  "language_info": {
   "codemirror_mode": {
    "name": "ipython",
    "version": 3
   },
   "file_extension": ".py",
   "mimetype": "text/x-python",
   "name": "python",
   "nbconvert_exporter": "python",
   "pygments_lexer": "ipython3",
   "version": "3.10.8"
  }
 },
 "nbformat": 4,
 "nbformat_minor": 5
}
