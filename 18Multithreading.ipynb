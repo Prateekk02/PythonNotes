{
 "cells": [
  {
   "cell_type": "markdown",
   "id": "9ec1269d-1884-46ee-b627-d09e4cca59d9",
   "metadata": {},
   "source": [
    "# Multithreading"
   ]
  },
  {
   "cell_type": "code",
   "execution_count": 1,
   "id": "aa4c37ff-d910-4500-a055-a09a8316a0d4",
   "metadata": {},
   "outputs": [],
   "source": [
    "import logging\n",
    "logging.basicConfig(filename='multithreadingop.log', level = logging.DEBUG, format = '%(asctime)s %(message)s')"
   ]
  },
  {
   "cell_type": "code",
   "execution_count": 2,
   "id": "7e7167af-819b-4940-b7e9-aa5b4efa1e17",
   "metadata": {},
   "outputs": [],
   "source": [
    "import threading "
   ]
  },
  {
   "cell_type": "code",
   "execution_count": 8,
   "id": "f6cd1ce4-1c99-44ee-a71f-030ca874857b",
   "metadata": {},
   "outputs": [],
   "source": [
    "def test(id):\n",
    "    print(\"Program start %d\"% id)\n",
    "    logging.info(\"Program start %d\"% id)"
   ]
  },
  {
   "cell_type": "code",
   "execution_count": 9,
   "id": "47bea7a0-6525-4a81-af16-ad2329f2a4c6",
   "metadata": {},
   "outputs": [
    {
     "name": "stdout",
     "output_type": "stream",
     "text": [
      "Program start 45\n"
     ]
    }
   ],
   "source": [
    "test(45)"
   ]
  },
  {
   "cell_type": "markdown",
   "id": "afc92e13-4e77-41a4-b584-1c5d080fa0f5",
   "metadata": {},
   "source": [
    "Now we want to run multiple program in same core"
   ]
  },
  {
   "cell_type": "code",
   "execution_count": 31,
   "id": "1f394e56-a144-49dc-b73d-9e82091aa448",
   "metadata": {},
   "outputs": [],
   "source": [
    "logging.info(\"Making thread\")\n",
    "thread = [threading.Thread(target = test, args = (i,)) for i in range(10)]"
   ]
  },
  {
   "cell_type": "code",
   "execution_count": 33,
   "id": "2079f9f8-0c6a-4cd6-a1fe-5168fe181eda",
   "metadata": {},
   "outputs": [
    {
     "name": "stdout",
     "output_type": "stream",
     "text": [
      "Program start 0\n",
      "Program start 1\n",
      "Program start 2\n",
      "Program start 3\n",
      "Program start 4\n",
      "Program start 5\n",
      "Program start 6\n",
      "Program start 7\n",
      "Program start 8\n",
      "Program start 9\n"
     ]
    }
   ],
   "source": [
    "logging.info(\"Working of thread starts\")\n",
    "for t in thread:\n",
    "    logging.info( \"Thread is running\")\n",
    "    t.start()"
   ]
  },
  {
   "cell_type": "code",
   "execution_count": 37,
   "id": "a1bbc791-0463-477d-a59b-11ceefaf86d1",
   "metadata": {},
   "outputs": [
    {
     "data": {
      "text/plain": [
       "[<Thread(Thread-55 (test), stopped 140294544672320)>,\n",
       " <Thread(Thread-56 (test), stopped 140294544672320)>,\n",
       " <Thread(Thread-57 (test), stopped 140294544672320)>,\n",
       " <Thread(Thread-58 (test), stopped 140294544672320)>,\n",
       " <Thread(Thread-59 (test), stopped 140294544672320)>,\n",
       " <Thread(Thread-60 (test), stopped 140294544672320)>,\n",
       " <Thread(Thread-61 (test), stopped 140294544672320)>,\n",
       " <Thread(Thread-62 (test), stopped 140294544672320)>,\n",
       " <Thread(Thread-63 (test), stopped 140294544672320)>,\n",
       " <Thread(Thread-64 (test), stopped 140294544672320)>]"
      ]
     },
     "execution_count": 37,
     "metadata": {},
     "output_type": "execute_result"
    }
   ],
   "source": [
    "logging.info(\"See for threads\")\n",
    "logging.info(thread)\n",
    "thread"
   ]
  },
  {
   "cell_type": "code",
   "execution_count": 39,
   "id": "53049254-6d36-4dcd-ab99-656d7651cce6",
   "metadata": {},
   "outputs": [],
   "source": [
    "logging.info(id(thread))\n"
   ]
  },
  {
   "cell_type": "markdown",
   "id": "49d47ab3-9f2e-42a6-aae5-efd3b438e417",
   "metadata": {},
   "source": [
    "### To Stores multiple files in a file"
   ]
  },
  {
   "cell_type": "code",
   "execution_count": 41,
   "id": "2b2dfcaa-50c1-454c-bf67-dbeb95759f4f",
   "metadata": {},
   "outputs": [],
   "source": [
    "import threading\n",
    "import urllib.request   # to fetch urls\n",
    "\n",
    "def file_download(url, filename):\n",
    "    urllib.request.urlretrieve(url,filename)    "
   ]
  },
  {
   "cell_type": "code",
   "execution_count": 44,
   "id": "7371b62c-a720-42ee-b284-6c512abf64dd",
   "metadata": {},
   "outputs": [],
   "source": [
    "logging.info(\"Runnint the file_download function separately\")\n",
    "file_download('https://raw.githubusercontent.com/itsfoss/text-files/master/agatha.txt', \"text.txt\")\n",
    "logging.info(\"The file on the given url has been copied to text.txt\")"
   ]
  },
  {
   "cell_type": "code",
   "execution_count": 45,
   "id": "aa0729d4-6b24-402c-bdee-a508ddace109",
   "metadata": {},
   "outputs": [],
   "source": [
    "logging.info(\"Now Fetching multiple files\")\n",
    "\n",
    "url_list = ['https://raw.githubusercontent.com/itsfoss/text-files/master/agatha.txt', 'https://raw.githubusercontent.com/itsfoss/text-files/master/sherlock.txt','https://raw.githubusercontent.com/itsfoss/text-files/master/sherlock.txt']\n",
    "logging.info(url_list)"
   ]
  },
  {
   "cell_type": "code",
   "execution_count": 48,
   "id": "ab3b2d07-ccda-41ac-ab15-cd6b82f390e8",
   "metadata": {},
   "outputs": [],
   "source": [
    "logging.info(\"Making list of files\")\n",
    "file_name_list = ['data1.txt', 'data2.txt', 'data3.txt']\n",
    "logging.info(file_name_list)"
   ]
  },
  {
   "cell_type": "code",
   "execution_count": 51,
   "id": "07939059-c098-42f8-bf4e-fbd8e39fe359",
   "metadata": {},
   "outputs": [],
   "source": [
    "logging.info(\"Making thread\")\n",
    "new_thread = [threading.Thread(target = file_download, args = (url_list[i], file_name_list[i])) for i in range(len(url_list))]\n",
    "logging.info(\"new_thread created\")"
   ]
  },
  {
   "cell_type": "code",
   "execution_count": 52,
   "id": "ec633483-49f0-4ae6-aea5-a3fd13f1969c",
   "metadata": {},
   "outputs": [
    {
     "data": {
      "text/plain": [
       "[<Thread(Thread-68 (file_download), initial)>,\n",
       " <Thread(Thread-69 (file_download), initial)>,\n",
       " <Thread(Thread-70 (file_download), initial)>]"
      ]
     },
     "execution_count": 52,
     "metadata": {},
     "output_type": "execute_result"
    }
   ],
   "source": [
    "logging.info(new_thread)\n",
    "new_thread"
   ]
  },
  {
   "cell_type": "code",
   "execution_count": 53,
   "id": "ff6d5dd9-ac92-4a86-a13a-ccc7e5bc8ac3",
   "metadata": {},
   "outputs": [],
   "source": [
    "logging.info(\"Running thread\")\n",
    "for t in new_thread:\n",
    "    t.start()"
   ]
  },
  {
   "cell_type": "code",
   "execution_count": 54,
   "id": "45bffb86-80db-4afe-b92f-caf4871e1935",
   "metadata": {},
   "outputs": [],
   "source": [
    "logging.info(\"new_thread over\")"
   ]
  },
  {
   "cell_type": "code",
   "execution_count": 55,
   "id": "4a1285e7-ab11-4cbf-a095-5f2ee2df2266",
   "metadata": {},
   "outputs": [
    {
     "data": {
      "text/plain": [
       "[<Thread(Thread-68 (file_download), stopped 140294544672320)>,\n",
       " <Thread(Thread-69 (file_download), stopped 140294553065024)>,\n",
       " <Thread(Thread-70 (file_download), stopped 140294561457728)>]"
      ]
     },
     "execution_count": 55,
     "metadata": {},
     "output_type": "execute_result"
    }
   ],
   "source": [
    "logging.info(new_thread)\n",
    "new_thread"
   ]
  },
  {
   "cell_type": "markdown",
   "id": "00328cc5-f62c-475e-98fc-22a679bcbdc4",
   "metadata": {},
   "source": [
    "## New Program"
   ]
  },
  {
   "cell_type": "code",
   "execution_count": 56,
   "id": "00e6ed16-b2a0-428b-afa9-4c6047bf7fa9",
   "metadata": {},
   "outputs": [],
   "source": [
    "import time"
   ]
  },
  {
   "cell_type": "code",
   "execution_count": 76,
   "id": "8f2535a9-377c-4242-a30f-f0d8a77dfe7c",
   "metadata": {},
   "outputs": [],
   "source": [
    "def test1(id):\n",
    "    for i in range(10):\n",
    "        logging.info(\"test1 %d printing %d %s\" %(id, i,time.ctime()))\n",
    "        print(\"test1 %d printing %d  %s\" %(id, i, time.ctime()))\n",
    "        time.sleep(1)   # giving 1 second sleep time after each output"
   ]
  },
  {
   "cell_type": "code",
   "execution_count": 77,
   "id": "76df7cd0-8384-4d2d-ae53-dd88321735e5",
   "metadata": {},
   "outputs": [
    {
     "name": "stdout",
     "output_type": "stream",
     "text": [
      "test1 1 printing 0  Thu Feb 23 06:36:55 2023\n",
      "test1 1 printing 1  Thu Feb 23 06:36:56 2023\n",
      "test1 1 printing 2  Thu Feb 23 06:36:57 2023\n",
      "test1 1 printing 3  Thu Feb 23 06:36:58 2023\n",
      "test1 1 printing 4  Thu Feb 23 06:36:59 2023\n",
      "test1 1 printing 5  Thu Feb 23 06:37:00 2023\n",
      "test1 1 printing 6  Thu Feb 23 06:37:01 2023\n",
      "test1 1 printing 7  Thu Feb 23 06:37:02 2023\n",
      "test1 1 printing 8  Thu Feb 23 06:37:03 2023\n",
      "test1 1 printing 9  Thu Feb 23 06:37:04 2023\n",
      "test1 1 printing 0  Thu Feb 23 06:37:05 2023\n",
      "test1 1 printing 1  Thu Feb 23 06:37:06 2023\n",
      "test1 1 printing 2  Thu Feb 23 06:37:07 2023\n",
      "test1 1 printing 3  Thu Feb 23 06:37:08 2023\n",
      "test1 1 printing 4  Thu Feb 23 06:37:09 2023\n",
      "test1 1 printing 5  Thu Feb 23 06:37:10 2023\n",
      "test1 1 printing 6  Thu Feb 23 06:37:11 2023\n",
      "test1 1 printing 7  Thu Feb 23 06:37:12 2023\n",
      "test1 1 printing 8  Thu Feb 23 06:37:13 2023\n",
      "test1 1 printing 9  Thu Feb 23 06:37:14 2023\n"
     ]
    }
   ],
   "source": [
    "logging.info(test1(1))\n",
    "test1(1)"
   ]
  },
  {
   "cell_type": "code",
   "execution_count": 82,
   "id": "56ef60f2-4bf4-42d5-9f73-63d94b516335",
   "metadata": {},
   "outputs": [],
   "source": [
    "logging.info(\"Making new thread3\")\n",
    "thread3 = [threading.Thread(target = test1, args = (i,)) for i in range(3)]\n"
   ]
  },
  {
   "cell_type": "code",
   "execution_count": 83,
   "id": "0d10c0ca-e21d-49b2-9754-df50a5e69556",
   "metadata": {},
   "outputs": [
    {
     "name": "stdout",
     "output_type": "stream",
     "text": [
      "test1 0 printing 0  Thu Feb 23 06:38:43 2023\n",
      "test1 1 printing 0  Thu Feb 23 06:38:43 2023\n",
      "test1 2 printing 0  Thu Feb 23 06:38:43 2023\n",
      "test1 0 printing 1  Thu Feb 23 06:38:44 2023\n",
      "test1 1 printing 1  Thu Feb 23 06:38:44 2023\n",
      "test1 2 printing 1  Thu Feb 23 06:38:44 2023\n",
      "test1 1 printing 2  Thu Feb 23 06:38:45 2023test1 0 printing 2  Thu Feb 23 06:38:45 2023\n",
      "\n",
      "test1 2 printing 2  Thu Feb 23 06:38:45 2023\n",
      "test1 0 printing 3  Thu Feb 23 06:38:46 2023\n",
      "test1 1 printing 3  Thu Feb 23 06:38:46 2023\n",
      "test1 2 printing 3  Thu Feb 23 06:38:46 2023\n",
      "test1 0 printing 4  Thu Feb 23 06:38:47 2023test1 1 printing 4  Thu Feb 23 06:38:47 2023\n",
      "\n",
      "test1 2 printing 4  Thu Feb 23 06:38:47 2023\n",
      "test1 1 printing 5  Thu Feb 23 06:38:48 2023\n",
      "test1 0 printing 5  Thu Feb 23 06:38:48 2023\n",
      "test1 2 printing 5  Thu Feb 23 06:38:48 2023\n",
      "test1 1 printing 6  Thu Feb 23 06:38:49 2023\n",
      "test1 2 printing 6  Thu Feb 23 06:38:49 2023\n",
      "test1 0 printing 6  Thu Feb 23 06:38:49 2023\n",
      "test1 1 printing 7  Thu Feb 23 06:38:50 2023\n",
      "test1 2 printing 7  Thu Feb 23 06:38:50 2023\n",
      "test1 0 printing 7  Thu Feb 23 06:38:50 2023\n",
      "test1 1 printing 8  Thu Feb 23 06:38:51 2023\n",
      "test1 2 printing 8  Thu Feb 23 06:38:51 2023\n",
      "test1 0 printing 8  Thu Feb 23 06:38:51 2023\n",
      "test1 1 printing 9  Thu Feb 23 06:38:52 2023test1 2 printing 9  Thu Feb 23 06:38:52 2023\n",
      "test1 0 printing 9  Thu Feb 23 06:38:52 2023\n",
      "\n"
     ]
    }
   ],
   "source": [
    "logging.info(\"Running thread 3\")\n",
    "for t in thread3:\n",
    "    t.start()"
   ]
  },
  {
   "cell_type": "markdown",
   "id": "efae070f-9987-4b34-bfe8-3b6966eb6290",
   "metadata": {},
   "source": [
    "In this once id = 0 goes to sleep the process of id = 1 start and when process of id = 1 sleep it goes to id = 3 and once this is complete the sleep time of id = 0  completes and again the process of id = 0 starts"
   ]
  },
  {
   "cell_type": "markdown",
   "id": "ca92b731-1de6-4dd5-bab7-b7839cd3b4c6",
   "metadata": {},
   "source": [
    "what if we don't add sleep time"
   ]
  },
  {
   "cell_type": "code",
   "execution_count": 79,
   "id": "a4635d6e-7190-4d0f-ad18-dcac67d3644a",
   "metadata": {},
   "outputs": [],
   "source": [
    "logging.info(\"Making new function which don't have sleep time\")\n",
    "def test2(id):\n",
    "    for i in range(10):\n",
    "        logging.info(\"test2 %d printing %d %s\" %(id,i, time.ctime()))\n",
    "        print(\"test2 %d printing %d %s\" %(id,i, time.ctime()))"
   ]
  },
  {
   "cell_type": "code",
   "execution_count": 80,
   "id": "d7c88517-f2f5-47cb-9d86-a970dfd2b30e",
   "metadata": {},
   "outputs": [],
   "source": [
    "logging.info(\"Making new thread without sleep time\")\n",
    "thread4 = [threading.Thread(target = test2, args=(i,)) for i in range(3)]"
   ]
  },
  {
   "cell_type": "code",
   "execution_count": 81,
   "id": "28eee770-db91-41d0-9828-e61cf52a10f9",
   "metadata": {},
   "outputs": [
    {
     "name": "stdout",
     "output_type": "stream",
     "text": [
      "test2 0 printing 0 Thu Feb 23 06:38:17 2023\n",
      "test2 0 printing 1 Thu Feb 23 06:38:17 2023\n",
      "test2 0 printing 2 Thu Feb 23 06:38:17 2023\n",
      "test2 0 printing 3 Thu Feb 23 06:38:17 2023\n",
      "test2 0 printing 4 Thu Feb 23 06:38:17 2023\n",
      "test2 0 printing 5 Thu Feb 23 06:38:17 2023\n",
      "test2 0 printing 6 Thu Feb 23 06:38:17 2023\n",
      "test2 0 printing 7 Thu Feb 23 06:38:17 2023\n",
      "test2 1 printing 0 Thu Feb 23 06:38:17 2023\n",
      "test2 0 printing 8 Thu Feb 23 06:38:17 2023\n",
      "test2 1 printing 1 Thu Feb 23 06:38:17 2023\n",
      "test2 2 printing 0 Thu Feb 23 06:38:17 2023\n",
      "test2 0 printing 9 Thu Feb 23 06:38:17 2023\n",
      "test2 1 printing 2 Thu Feb 23 06:38:17 2023\n",
      "test2 2 printing 1 Thu Feb 23 06:38:17 2023\n",
      "test2 1 printing 3 Thu Feb 23 06:38:17 2023\n",
      "test2 2 printing 2 Thu Feb 23 06:38:17 2023\n",
      "test2 1 printing 4 Thu Feb 23 06:38:17 2023\n",
      "test2 1 printing 5 Thu Feb 23 06:38:17 2023\n",
      "test2 1 printing 6 Thu Feb 23 06:38:17 2023\n",
      "test2 1 printing 7 Thu Feb 23 06:38:17 2023\n",
      "test2 1 printing 8 Thu Feb 23 06:38:17 2023\n",
      "test2 2 printing 3 Thu Feb 23 06:38:17 2023\n",
      "test2 1 printing 9 Thu Feb 23 06:38:17 2023\n",
      "test2 2 printing 4 Thu Feb 23 06:38:17 2023\n",
      "test2 2 printing 5 Thu Feb 23 06:38:17 2023\n",
      "test2 2 printing 6 Thu Feb 23 06:38:17 2023\n",
      "test2 2 printing 7 Thu Feb 23 06:38:17 2023\n",
      "test2 2 printing 8 Thu Feb 23 06:38:17 2023\n",
      "test2 2 printing 9 Thu Feb 23 06:38:17 2023\n"
     ]
    }
   ],
   "source": [
    "logging.info(\"Running new thread4\")\n",
    "for t in thread4:\n",
    "    t.start()"
   ]
  },
  {
   "cell_type": "markdown",
   "id": "28fecbb5-545e-4d9c-b042-e10a6b79b216",
   "metadata": {},
   "source": [
    "Here once id = 0 gets completed first and after that id = 1 program gets completed and after that id = 2 gets completed"
   ]
  },
  {
   "cell_type": "markdown",
   "id": "ecdae1d1-aeba-465b-a5bc-fa4b1f10e603",
   "metadata": {},
   "source": [
    "## Shared Resources"
   ]
  },
  {
   "cell_type": "code",
   "execution_count": 85,
   "id": "712592ea-2de7-4b4e-a35c-627629902c5b",
   "metadata": {},
   "outputs": [],
   "source": [
    "logging.info(\"Making program using shared resources\")\n",
    "\n",
    "shared_var = 0\n",
    "lock_var = threading.Lock()\n"
   ]
  },
  {
   "cell_type": "code",
   "execution_count": 86,
   "id": "68982606-5834-4ca9-aa98-cbc561588571",
   "metadata": {},
   "outputs": [],
   "source": [
    "def test3(id):\n",
    "    global shared_var\n",
    "    with lock_var:\n",
    "        shared_var = shared_var+1\n",
    "        logging.info(\"test3 id is %d has increased the shared variable by %d\" %(id, shared_var))\n",
    "        print(\"test3 id is %d has increased the shared variable by %d\" %(id, shared_var))"
   ]
  },
  {
   "cell_type": "code",
   "execution_count": 95,
   "id": "856cad10-2abd-4579-a22f-794e3aefb918",
   "metadata": {},
   "outputs": [],
   "source": [
    "logging.info(\"Making thread 5\")\n",
    "thread5 = [threading.Thread(target = test3, args = (i,)) for i in range(3)]"
   ]
  },
  {
   "cell_type": "code",
   "execution_count": 96,
   "id": "67ff99eb-5113-47b9-93ac-9f90b18aa4b5",
   "metadata": {},
   "outputs": [
    {
     "data": {
      "text/plain": [
       "[<Thread(Thread-92 (test3), initial)>,\n",
       " <Thread(Thread-93 (test3), initial)>,\n",
       " <Thread(Thread-94 (test3), initial)>]"
      ]
     },
     "execution_count": 96,
     "metadata": {},
     "output_type": "execute_result"
    }
   ],
   "source": [
    "logging.info(thread5)\n",
    "thread5"
   ]
  },
  {
   "cell_type": "markdown",
   "id": "88f5713e-b706-46a5-8ad3-c42ee332dafd",
   "metadata": {},
   "source": [
    "Here we want to run test3 program three time and try to increament the value of shared_var three time"
   ]
  },
  {
   "cell_type": "code",
   "execution_count": 97,
   "id": "0b90dc3a-bb60-46bd-9582-5661214d0f8a",
   "metadata": {},
   "outputs": [
    {
     "name": "stdout",
     "output_type": "stream",
     "text": [
      "test3 id is 0 has increased the shared variable by 1\n",
      "test3 id is 1 has increased the shared variable by 2\n",
      "test3 id is 2 has increased the shared variable by 3\n"
     ]
    }
   ],
   "source": [
    "logging.info(\"Running thread 5\")\n",
    "for t in thread5:\n",
    "    t.start()"
   ]
  },
  {
   "cell_type": "markdown",
   "id": "a310db59-8622-467b-b366-1b43ac16f155",
   "metadata": {},
   "source": [
    "Now what if the same program had sleep time"
   ]
  },
  {
   "cell_type": "code",
   "execution_count": 107,
   "id": "11ddef85-bed6-4a53-b3bd-ffab49717530",
   "metadata": {},
   "outputs": [],
   "source": [
    "shared_var1=0\n",
    "lock_var1 = threading.Lock()"
   ]
  },
  {
   "cell_type": "code",
   "execution_count": 108,
   "id": "6ad071a9-0f20-4693-935a-c3de3821ccc8",
   "metadata": {},
   "outputs": [],
   "source": [
    "def test4(id):\n",
    "    global shared_var1\n",
    "    with lock_var1:\n",
    "        shared_var1 = shared_var1+1\n",
    "        logging.info(\"test3 id is %d has increased the shared variable by %d\" %(id, shared_var1))\n",
    "        print(\"test3 id is %d has increased the shared variable by %d\" %(id, shared_var1))\n",
    "        time.sleep(1)"
   ]
  },
  {
   "cell_type": "code",
   "execution_count": 109,
   "id": "9cc97695-6c09-4186-bd66-0b73891eee36",
   "metadata": {},
   "outputs": [],
   "source": [
    "logging.info(\"Making thread 6\")\n",
    "thread6 = [threading.Thread(target = test4, args = (i,)) for i in range(3)]"
   ]
  },
  {
   "cell_type": "code",
   "execution_count": 110,
   "id": "f9f1dfe6-4b22-4d19-b05d-9b29d37825bb",
   "metadata": {},
   "outputs": [
    {
     "data": {
      "text/plain": [
       "[<Thread(Thread-101 (test4), initial)>,\n",
       " <Thread(Thread-102 (test4), initial)>,\n",
       " <Thread(Thread-103 (test4), initial)>]"
      ]
     },
     "execution_count": 110,
     "metadata": {},
     "output_type": "execute_result"
    }
   ],
   "source": [
    "logging.info(thread6)\n",
    "thread6"
   ]
  },
  {
   "cell_type": "code",
   "execution_count": 111,
   "id": "8ff34466-5c6a-441e-b1c7-45682b4d4d28",
   "metadata": {},
   "outputs": [
    {
     "name": "stdout",
     "output_type": "stream",
     "text": [
      "test3 id is 0 has increased the shared variable by 1\n",
      "test3 id is 1 has increased the shared variable by 2\n",
      "test3 id is 2 has increased the shared variable by 3\n"
     ]
    }
   ],
   "source": [
    "logging.info(\"Running thread 6\")\n",
    "for t in thread6:\n",
    "    t.start()"
   ]
  },
  {
   "cell_type": "markdown",
   "id": "bcb7496b-d57d-4106-8738-308c90cc2004",
   "metadata": {},
   "source": [
    "# END"
   ]
  }
 ],
 "metadata": {
  "kernelspec": {
   "display_name": "Python 3 (ipykernel)",
   "language": "python",
   "name": "python3"
  },
  "language_info": {
   "codemirror_mode": {
    "name": "ipython",
    "version": 3
   },
   "file_extension": ".py",
   "mimetype": "text/x-python",
   "name": "python",
   "nbconvert_exporter": "python",
   "pygments_lexer": "ipython3",
   "version": "3.10.8"
  }
 },
 "nbformat": 4,
 "nbformat_minor": 5
}
