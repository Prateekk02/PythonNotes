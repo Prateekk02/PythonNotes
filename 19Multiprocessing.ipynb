{
 "cells": [
  {
   "cell_type": "markdown",
   "id": "476c134d-1765-4223-a0e2-3a74a74c4c89",
   "metadata": {},
   "source": [
    "# Multiprocessing"
   ]
  },
  {
   "cell_type": "markdown",
   "id": "c1610719-edde-46c9-8a43-63918e1d7c85",
   "metadata": {},
   "source": [
    "- Multiple process happens in multiple cores."
   ]
  },
  {
   "cell_type": "code",
   "execution_count": 3,
   "id": "9cd3f430-6ac2-4160-b154-0ff682628aa1",
   "metadata": {},
   "outputs": [],
   "source": [
    "import logging\n",
    "logging.basicConfig(filename = 'multiprocessingop.log', level = logging.DEBUG, format = '%(asctime)s %(message)s')"
   ]
  },
  {
   "cell_type": "markdown",
   "id": "54e7ac61-723c-4228-8561-262ebd575b85",
   "metadata": {},
   "source": [
    "##### Multiprocessing using Process method"
   ]
  },
  {
   "cell_type": "code",
   "execution_count": 13,
   "id": "b7dbd97e-3438-4cd1-8db2-6d5a9521be0b",
   "metadata": {},
   "outputs": [
    {
     "name": "stdout",
     "output_type": "stream",
     "text": [
      "This is my main program\n",
      "This is my multiprocessing program\n"
     ]
    }
   ],
   "source": [
    "import multiprocessing\n",
    "def test():\n",
    "    logging.info(\"This is my multiprocessing program\")\n",
    "    print(\"This is my multiprocessing program\")\n",
    "\n",
    "    \n",
    "logging.info(\"Returning test result using Process method where next process starts after the previous process gets complete\")\n",
    "if __name__ == '__main__':\n",
    "    # Using Process method, it is one of a way to achieve multiprocessing.\n",
    "    m = multiprocessing.Process(target = test)\n",
    "    logging.info(\"This is my main program\")\n",
    "    print(\"This is my main program\")\n",
    "    m.start()  # To start child process. \n",
    "    m.join()   # To free the resource used by child process."
   ]
  },
  {
   "cell_type": "code",
   "execution_count": 7,
   "id": "bb92b7b2-71b0-4e5e-8fab-969049085d3f",
   "metadata": {},
   "outputs": [
    {
     "name": "stdout",
     "output_type": "stream",
     "text": [
      "This is my multiprocessing program\n"
     ]
    }
   ],
   "source": [
    "test()"
   ]
  },
  {
   "cell_type": "markdown",
   "id": "e72b7b0e-7a03-4307-a84a-dc855d3bea46",
   "metadata": {},
   "source": [
    "##### Multiprocessing using Pool method."
   ]
  },
  {
   "cell_type": "code",
   "execution_count": 14,
   "id": "b16d9fd8-ee59-48a7-9948-be3926e14473",
   "metadata": {},
   "outputs": [
    {
     "name": "stdout",
     "output_type": "stream",
     "text": [
      "[1, 4, 9, 16, 25, 36, 49, 64, 81]\n"
     ]
    }
   ],
   "source": [
    "logging.info(\"Returning square of nos. using Pool method where multiple process works simultaneously\")\n",
    "\n",
    "def square(n):\n",
    "    return n**2\n",
    "\n",
    "if __name__ == \"__main__\":\n",
    "    with multiprocessing.Pool(processes = 10) as pool:    # if you want object in bulk.\n",
    "       \n",
    "        out = pool.map(square, [1,2,3,4,5,6,7,8,9])\n",
    "        logging.info(out)\n",
    "        print(out)"
   ]
  },
  {
   "cell_type": "markdown",
   "id": "af326a9f-1dfa-4648-8629-dd5805b75c5b",
   "metadata": {},
   "source": [
    "- In this case 4 processes works together simultaneously and returns the result."
   ]
  },
  {
   "cell_type": "markdown",
   "id": "a8284b88-f5b1-4580-a06d-fcc193fb28f6",
   "metadata": {},
   "source": [
    "##### Multiprocessing using queue."
   ]
  },
  {
   "cell_type": "code",
   "execution_count": null,
   "id": "441bcd01-33a4-4e08-b619-cd980597de1d",
   "metadata": {},
   "outputs": [
    {
     "name": "stdout",
     "output_type": "stream",
     "text": [
      "0\n",
      "1\n",
      "2\n",
      "3\n",
      "4\n",
      "5\n",
      "6\n",
      "7\n",
      "8\n",
      "9\n",
      "prateek\n"
     ]
    }
   ],
   "source": [
    "logging.info(\"Multiprocessing using queue.\")\n",
    "# For feeding data.\n",
    "def producer(q):\n",
    "    for i in range(10):\n",
    "        q.put(i)\n",
    "        \n",
    "# For extracting data.\n",
    "def consume(q):\n",
    "    while True:\n",
    "        item = q.get()\n",
    "        if item is None:\n",
    "            break\n",
    "        logging.info(item)\n",
    "        print(item)\n",
    "    \n",
    "if __name__ == '__main__':\n",
    "    queue = multiprocessing.Queue()\n",
    "    m1 = multiprocessing.Process(target = producer, args = (queue,))\n",
    "    m2 = multiprocessing.Process(target = consume, args = (queue, ))\n",
    "    m1.start()\n",
    "    m2.start()\n",
    "    queue.put(\"prateek\")\n",
    "    m1.join()\n",
    "    m2.join()"
   ]
  },
  {
   "cell_type": "markdown",
   "id": "4db676fd-719f-44a5-9489-9e2a7baf6c18",
   "metadata": {},
   "source": [
    "##### Multiprocessing using array."
   ]
  },
  {
   "cell_type": "code",
   "execution_count": 6,
   "id": "ca2a380f-34ae-4453-b968-42440309e7b5",
   "metadata": {},
   "outputs": [
    {
     "name": "stdout",
     "output_type": "stream",
     "text": [
      "[4, 9, 16, 25, 36, 49, 64]\n"
     ]
    }
   ],
   "source": [
    "logging.info(\"Multiprocessing using array.\")\n",
    "import multiprocessing\n",
    "def square(index, value):\n",
    "    value[index] = value[index]**2\n",
    "\n",
    "if __name__ == '__main__':\n",
    "    arr = multiprocessing.Array('i', [2,3,4,5,6,7,8])  # This array is shared among all the process.\n",
    "    process = []\n",
    "    for i in range(7):\n",
    "        m = multiprocessing.Process(target = square, args = (i,arr))\n",
    "        process.append(m)\n",
    "        m.start()\n",
    "    for m in process:\n",
    "        m.join()\n",
    "    logging.info(list(arr))\n",
    "    print(list(arr))\n",
    "    "
   ]
  },
  {
   "cell_type": "markdown",
   "id": "96eb7485-b6e5-4609-a5b9-ab14d977f209",
   "metadata": {},
   "source": [
    "- Multiprocessing can also be done using pipe"
   ]
  },
  {
   "cell_type": "markdown",
   "id": "56399b05-e4d6-4a02-a2b0-1c7a6a21d747",
   "metadata": {},
   "source": [
    "##### Multiprocessing using pipe."
   ]
  },
  {
   "cell_type": "code",
   "execution_count": null,
   "id": "ad22ba5f-1089-4253-b22f-fb9c2cbfb0e3",
   "metadata": {},
   "outputs": [
    {
     "name": "stdout",
     "output_type": "stream",
     "text": [
      "It's over Anakin\n",
      " I have a high ground\n",
      "You under estimate my power\n"
     ]
    }
   ],
   "source": [
    "import multiprocessing\n",
    "def sender(conn, msg):\n",
    "    for i in msg:\n",
    "        conn.send(i)\n",
    "    conn.close()\n",
    "def receive(conn):\n",
    "    while True:\n",
    "        try:\n",
    "            msg = conn.recv()\n",
    "        except Exception as e:\n",
    "            print(e)\n",
    "            logging.info(e)\n",
    "        logging.info(msg)\n",
    "        print(msg)\n",
    "        \n",
    "if __name__ == '__main__':\n",
    "    msg = [ \"It's over Anakin\", \" I have a high ground\", \"You under estimate my power\"]\n",
    "    parent_con, child_con = multiprocessing.Pipe()  # It receives as well as sends the msg.\n",
    "    m1 = multiprocessing.Process(target = sender, args = (child_con, msg))\n",
    "    m2 = multiprocessing.Process(target = receive, args = (parent_con,))\n",
    "    m1.start()\n",
    "    m2.start()\n",
    "    m1.join()\n",
    "    child_con.close()\n",
    "    m2.join()\n",
    "    parent_con.close()\n",
    "    \n",
    "    "
   ]
  },
  {
   "cell_type": "markdown",
   "id": "63e3b71c-ca55-4b30-a991-7642bc40b233",
   "metadata": {},
   "source": [
    "- In the above example m1 process is sending the message while m2 process is receiving the message and this is done using pipe."
   ]
  },
  {
   "cell_type": "markdown",
   "id": "252420a0-bf51-40eb-ba0d-696200e59f42",
   "metadata": {},
   "source": [
    "# END"
   ]
  }
 ],
 "metadata": {
  "kernelspec": {
   "display_name": "Python 3 (ipykernel)",
   "language": "python",
   "name": "python3"
  },
  "language_info": {
   "codemirror_mode": {
    "name": "ipython",
    "version": 3
   },
   "file_extension": ".py",
   "mimetype": "text/x-python",
   "name": "python",
   "nbconvert_exporter": "python",
   "pygments_lexer": "ipython3",
   "version": "3.10.8"
  }
 },
 "nbformat": 4,
 "nbformat_minor": 5
}
