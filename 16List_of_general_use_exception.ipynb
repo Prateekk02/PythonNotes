{
 "cells": [
  {
   "cell_type": "markdown",
   "id": "05a6efb3-72b4-468d-8d1a-e9e9b8acb2b4",
   "metadata": {},
   "source": [
    "# List of General Use Exceptions"
   ]
  },
  {
   "cell_type": "code",
   "execution_count": 1,
   "id": "35c035df-bc7c-400d-bd9e-ad2a4bdd2133",
   "metadata": {},
   "outputs": [
    {
     "name": "stdout",
     "output_type": "stream",
     "text": [
      "division by zero\n"
     ]
    }
   ],
   "source": [
    "try: \n",
    "     a = 10/0\n",
    "except ZeroDivisionError as e:\n",
    "    print(e)"
   ]
  },
  {
   "cell_type": "code",
   "execution_count": 2,
   "id": "ddc9133f-3026-41f7-86e2-22d51f60f174",
   "metadata": {},
   "outputs": [
    {
     "name": "stdout",
     "output_type": "stream",
     "text": [
      "invalid literal for int() with base 10: 'anakin'\n"
     ]
    }
   ],
   "source": [
    "try:\n",
    "    int(\"anakin\")\n",
    "except (ValueError, TypeError) as e:\n",
    "    print(e)"
   ]
  },
  {
   "cell_type": "code",
   "execution_count": 4,
   "id": "66c00d43-3ddb-46a3-b21b-fcdf5d37b456",
   "metadata": {},
   "outputs": [
    {
     "name": "stdout",
     "output_type": "stream",
     "text": [
      "This will catch an error\n"
     ]
    }
   ],
   "source": [
    "try:\n",
    "    int(\"anakin\")\n",
    "except:\n",
    "    print(\"This will catch an error\")"
   ]
  },
  {
   "cell_type": "code",
   "execution_count": 7,
   "id": "b1b3a73f-521b-4558-86d2-d605016b9256",
   "metadata": {},
   "outputs": [
    {
     "name": "stdout",
     "output_type": "stream",
     "text": [
      "No module named 'sith'\n"
     ]
    },
    {
     "data": {
      "text/plain": [
       "2.5"
      ]
     },
     "execution_count": 7,
     "metadata": {},
     "output_type": "execute_result"
    }
   ],
   "source": [
    "try:\n",
    "    import sith\n",
    "except ImportError as e:\n",
    "    print(e)\n",
    "10/4"
   ]
  },
  {
   "cell_type": "code",
   "execution_count": 8,
   "id": "a1c0ab08-bbb7-4c42-a452-bb5f2c719545",
   "metadata": {},
   "outputs": [
    {
     "name": "stdout",
     "output_type": "stream",
     "text": [
      "'Jedi'\n"
     ]
    }
   ],
   "source": [
    "try:\n",
    "    d = { 'sith': 'vader', 1:[2,3,4,5]}\n",
    "    print(d[\"Jedi\"])\n",
    "except KeyError as e:\n",
    "    print(e)\n"
   ]
  },
  {
   "cell_type": "code",
   "execution_count": 11,
   "id": "218b476f-459a-45de-91aa-2267918ccd83",
   "metadata": {},
   "outputs": [
    {
     "name": "stdout",
     "output_type": "stream",
     "text": [
      "'str' object has no attribute 'Jedi'\n"
     ]
    }
   ],
   "source": [
    "try: \n",
    "    'anakin'.Jedi()\n",
    "except AttributeError as e:\n",
    "    print(e)"
   ]
  },
  {
   "cell_type": "code",
   "execution_count": 12,
   "id": "6c44f8c1-0c0c-4ba4-b6fc-96bd5eb13c62",
   "metadata": {},
   "outputs": [
    {
     "name": "stdout",
     "output_type": "stream",
     "text": [
      "list index out of range\n"
     ]
    }
   ],
   "source": [
    "try:\n",
    "    l = [2,3,4,5]\n",
    "    l[6]\n",
    "except IndexError as e:\n",
    "    print(e)"
   ]
  },
  {
   "cell_type": "code",
   "execution_count": 14,
   "id": "078e5af0-ce8c-4a60-a0ba-3f43c918badd",
   "metadata": {},
   "outputs": [
    {
     "name": "stdout",
     "output_type": "stream",
     "text": [
      "unsupported operand type(s) for +: 'int' and 'str'\n"
     ]
    }
   ],
   "source": [
    "try:\n",
    "    66 + 'younglings'\n",
    "except TypeError as e:\n",
    "    print(e)"
   ]
  },
  {
   "cell_type": "code",
   "execution_count": 21,
   "id": "0962ecae-7e9f-4924-80e0-74c1792f4278",
   "metadata": {},
   "outputs": [
    {
     "name": "stdout",
     "output_type": "stream",
     "text": [
      "[Errno 2] No such file or directory: 'text.txt'\n"
     ]
    }
   ],
   "source": [
    "try:\n",
    "    with open(\"text.txt\",'r') as f:\n",
    "        f.read()\n",
    "except Exception as e:\n",
    "    print(e)\n",
    "except FileNotFoundError as e:\n",
    "    print('test',e)"
   ]
  },
  {
   "cell_type": "markdown",
   "id": "956aa52f-68a4-4eb1-aacb-4ae5bbe589ca",
   "metadata": {},
   "source": [
    "- As Exception is already a super class hence it handles the exception first in this case.\n",
    "- As a matter of fact it is bad practice to use super class first."
   ]
  },
  {
   "cell_type": "code",
   "execution_count": 19,
   "id": "62087af0-3e7e-4cc9-a1c3-6e9d836780af",
   "metadata": {},
   "outputs": [
    {
     "data": {
      "text/plain": [
       "['__cause__',\n",
       " '__class__',\n",
       " '__context__',\n",
       " '__delattr__',\n",
       " '__dict__',\n",
       " '__dir__',\n",
       " '__doc__',\n",
       " '__eq__',\n",
       " '__format__',\n",
       " '__ge__',\n",
       " '__getattribute__',\n",
       " '__gt__',\n",
       " '__hash__',\n",
       " '__init__',\n",
       " '__init_subclass__',\n",
       " '__le__',\n",
       " '__lt__',\n",
       " '__ne__',\n",
       " '__new__',\n",
       " '__reduce__',\n",
       " '__reduce_ex__',\n",
       " '__repr__',\n",
       " '__setattr__',\n",
       " '__setstate__',\n",
       " '__sizeof__',\n",
       " '__str__',\n",
       " '__subclasshook__',\n",
       " '__suppress_context__',\n",
       " '__traceback__',\n",
       " 'args',\n",
       " 'with_traceback']"
      ]
     },
     "execution_count": 19,
     "metadata": {},
     "output_type": "execute_result"
    }
   ],
   "source": [
    "dir(Exception)"
   ]
  },
  {
   "cell_type": "code",
   "execution_count": 24,
   "id": "a8f43175-5640-44d6-91f9-c0dac157ac90",
   "metadata": {},
   "outputs": [],
   "source": [
    "def test(file):\n",
    "    \n",
    "    try:\n",
    "        with open(\"text.txt\",'r') as f:\n",
    "            f.read()\n",
    "    \n",
    "    except FileNotFoundError as e:\n",
    "        print('test',e)\n",
    "    except Exception as e:\n",
    "        print(e)"
   ]
  },
  {
   "cell_type": "code",
   "execution_count": 25,
   "id": "75c158e4-985d-47dc-a4f3-d8ba37a5d7f0",
   "metadata": {},
   "outputs": [
    {
     "name": "stdout",
     "output_type": "stream",
     "text": [
      "test [Errno 2] No such file or directory: 'text.txt'\n"
     ]
    }
   ],
   "source": [
    "test(f)"
   ]
  },
  {
   "cell_type": "markdown",
   "id": "ac897c6b-aa2a-46bc-928e-000b4ac31230",
   "metadata": {},
   "source": [
    "# END"
   ]
  }
 ],
 "metadata": {
  "kernelspec": {
   "display_name": "Python 3 (ipykernel)",
   "language": "python",
   "name": "python3"
  },
  "language_info": {
   "codemirror_mode": {
    "name": "ipython",
    "version": 3
   },
   "file_extension": ".py",
   "mimetype": "text/x-python",
   "name": "python",
   "nbconvert_exporter": "python",
   "pygments_lexer": "ipython3",
   "version": "3.10.8"
  }
 },
 "nbformat": 4,
 "nbformat_minor": 5
}
