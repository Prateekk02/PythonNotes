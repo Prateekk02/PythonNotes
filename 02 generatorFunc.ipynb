{
 "cells": [
  {
   "cell_type": "markdown",
   "id": "0b226870-bd41-43f2-b0f8-492a439b9c41",
   "metadata": {},
   "source": [
    "## Generator Function"
   ]
  },
  {
   "cell_type": "markdown",
   "id": "4a0f3b21-cce6-4df0-b2a6-fd8655b4627c",
   "metadata": {},
   "source": [
    "A generator is a function that returns an iterator that produces a sequence of values when iterated over. "
   ]
  },
  {
   "cell_type": "code",
   "execution_count": 1,
   "id": "d59e4d9f-14cf-49a6-8d50-9662f3b8e815",
   "metadata": {},
   "outputs": [],
   "source": [
    "#Fibonacci No.\n",
    "def testFib(n):\n",
    "    a, b = 0 , 1\n",
    "    for i in range(n):\n",
    "        yield a\n",
    "        a,b = b, a+b"
   ]
  },
  {
   "cell_type": "code",
   "execution_count": 2,
   "id": "b42b57e6-c0a6-41e7-b10b-2deb51f017f5",
   "metadata": {},
   "outputs": [
    {
     "data": {
      "text/plain": [
       "<generator object testFib at 0x7fc5672f9930>"
      ]
     },
     "execution_count": 2,
     "metadata": {},
     "output_type": "execute_result"
    }
   ],
   "source": [
    "testFib(10)"
   ]
  },
  {
   "cell_type": "code",
   "execution_count": 3,
   "id": "fec452dc-ef96-4501-a3e6-a7134adec02b",
   "metadata": {},
   "outputs": [
    {
     "name": "stdout",
     "output_type": "stream",
     "text": [
      "0\n",
      "1\n",
      "1\n",
      "2\n",
      "3\n",
      "5\n",
      "8\n",
      "13\n",
      "21\n",
      "34\n"
     ]
    }
   ],
   "source": [
    "for i in testFib(10):\n",
    "    print(i)"
   ]
  },
  {
   "cell_type": "markdown",
   "id": "05915565-f8e4-4d13-b100-c1c93a4f19e3",
   "metadata": {},
   "source": [
    "Here data is not taken out all at once rather it is taken out at every step."
   ]
  },
  {
   "cell_type": "code",
   "execution_count": 4,
   "id": "4f2919f9-e720-4143-9f5d-34d10f4ba71d",
   "metadata": {},
   "outputs": [],
   "source": [
    "# Fibonnaci using while loop and generator function\n",
    "def testFib1():\n",
    "    a,b = 0,1\n",
    "    while True:\n",
    "        yield a \n",
    "        a,b=b,a+b"
   ]
  },
  {
   "cell_type": "code",
   "execution_count": 5,
   "id": "d73ac38c-f73a-4807-84bb-af0b3224366c",
   "metadata": {},
   "outputs": [],
   "source": [
    "fib = testFib1()    #object is created"
   ]
  },
  {
   "cell_type": "code",
   "execution_count": 22,
   "id": "5562f882-2618-4964-8c45-87197061ae4a",
   "metadata": {},
   "outputs": [
    {
     "data": {
      "text/plain": [
       "generator"
      ]
     },
     "execution_count": 22,
     "metadata": {},
     "output_type": "execute_result"
    }
   ],
   "source": [
    "type(fib)"
   ]
  },
  {
   "cell_type": "code",
   "execution_count": 21,
   "id": "29135803-2844-4818-bb57-7f8cbf130ab1",
   "metadata": {},
   "outputs": [
    {
     "name": "stdout",
     "output_type": "stream",
     "text": [
      "832040\n",
      "1346269\n",
      "2178309\n",
      "3524578\n",
      "5702887\n",
      "9227465\n",
      "14930352\n",
      "24157817\n",
      "39088169\n",
      "63245986\n"
     ]
    }
   ],
   "source": [
    "for i in range(10):\n",
    "    print(next(fib))\n"
   ]
  },
  {
   "cell_type": "code",
   "execution_count": 9,
   "id": "7f4d7f1c-952c-400f-b7b6-609659d13550",
   "metadata": {},
   "outputs": [],
   "source": [
    "# use of next keyword\n",
    "s = 'prateek'"
   ]
  },
  {
   "cell_type": "code",
   "execution_count": 10,
   "id": "2cc60ac6-1027-4186-8fcc-10bd0ddcd295",
   "metadata": {},
   "outputs": [
    {
     "name": "stdout",
     "output_type": "stream",
     "text": [
      "p\n",
      "r\n",
      "a\n",
      "t\n",
      "e\n",
      "e\n",
      "k\n"
     ]
    }
   ],
   "source": [
    "for i in s:\n",
    "    print(i)"
   ]
  },
  {
   "cell_type": "code",
   "execution_count": 11,
   "id": "679171d1-b3bb-418d-8b1b-3826dedb6cbf",
   "metadata": {},
   "outputs": [
    {
     "data": {
      "text/plain": [
       "'prateek'"
      ]
     },
     "execution_count": 11,
     "metadata": {},
     "output_type": "execute_result"
    }
   ],
   "source": [
    "s"
   ]
  },
  {
   "cell_type": "code",
   "execution_count": 12,
   "id": "ec0a1fc5-9b0a-4349-869c-1534c5c8f0e9",
   "metadata": {},
   "outputs": [
    {
     "ename": "TypeError",
     "evalue": "'str' object is not an iterator",
     "output_type": "error",
     "traceback": [
      "\u001b[0;31m---------------------------------------------------------------------------\u001b[0m",
      "\u001b[0;31mTypeError\u001b[0m                                 Traceback (most recent call last)",
      "Cell \u001b[0;32mIn[12], line 1\u001b[0m\n\u001b[0;32m----> 1\u001b[0m \u001b[38;5;28;43mnext\u001b[39;49m\u001b[43m(\u001b[49m\u001b[43ms\u001b[49m\u001b[43m)\u001b[49m\n",
      "\u001b[0;31mTypeError\u001b[0m: 'str' object is not an iterator"
     ]
    }
   ],
   "source": [
    "next(s)"
   ]
  },
  {
   "cell_type": "markdown",
   "id": "8f9771e9-fb80-4425-83ee-ab1b5740b340",
   "metadata": {},
   "source": [
    "### String not a kind of an object which is iterable that means we cannot travers it as next , next , ..."
   ]
  },
  {
   "cell_type": "code",
   "execution_count": 13,
   "id": "a2fb9d63-9a62-48c7-a16d-a9464d6f5669",
   "metadata": {},
   "outputs": [],
   "source": [
    "s1 = iter(s)"
   ]
  },
  {
   "cell_type": "code",
   "execution_count": 14,
   "id": "3c3da9e0-a867-467a-beb7-4163a370ac8e",
   "metadata": {},
   "outputs": [
    {
     "data": {
      "text/plain": [
       "'p'"
      ]
     },
     "execution_count": 14,
     "metadata": {},
     "output_type": "execute_result"
    }
   ],
   "source": [
    "next(s1)"
   ]
  },
  {
   "cell_type": "code",
   "execution_count": 15,
   "id": "ed33ada1-2c0d-452f-b5ba-b8369cc9f571",
   "metadata": {},
   "outputs": [
    {
     "data": {
      "text/plain": [
       "'r'"
      ]
     },
     "execution_count": 15,
     "metadata": {},
     "output_type": "execute_result"
    }
   ],
   "source": [
    "next(s1)"
   ]
  },
  {
   "cell_type": "code",
   "execution_count": 16,
   "id": "5b51bda7-27ab-48f2-9b70-3cc9d5bc1d58",
   "metadata": {},
   "outputs": [
    {
     "data": {
      "text/plain": [
       "'a'"
      ]
     },
     "execution_count": 16,
     "metadata": {},
     "output_type": "execute_result"
    }
   ],
   "source": [
    "next(s1)"
   ]
  },
  {
   "cell_type": "code",
   "execution_count": 17,
   "id": "0bc7bb94-737f-42b8-a3e6-bd590f4b38e4",
   "metadata": {},
   "outputs": [
    {
     "data": {
      "text/plain": [
       "'t'"
      ]
     },
     "execution_count": 17,
     "metadata": {},
     "output_type": "execute_result"
    }
   ],
   "source": [
    "next(s1)"
   ]
  },
  {
   "cell_type": "markdown",
   "id": "3aadff22-371e-42aa-8b4a-0487a0dcae9a",
   "metadata": {},
   "source": [
    "#### String is iterable but not a iterator."
   ]
  },
  {
   "cell_type": "markdown",
   "id": "ddb338e2-d9d8-44f9-805d-f0fe6e57217a",
   "metadata": {},
   "source": [
    "If we want to make string iterable then we have to put the string in iter() function "
   ]
  },
  {
   "cell_type": "markdown",
   "id": "28458bde-0428-4662-9c4a-bbd4a08f890a",
   "metadata": {},
   "source": [
    "And now the string act as iterator."
   ]
  },
  {
   "cell_type": "code",
   "execution_count": 18,
   "id": "b5f8f6a1-599c-4a48-a90f-1d4220237d5d",
   "metadata": {},
   "outputs": [
    {
     "data": {
      "text/plain": [
       "str_iterator"
      ]
     },
     "execution_count": 18,
     "metadata": {},
     "output_type": "execute_result"
    }
   ],
   "source": [
    "type(s1)"
   ]
  },
  {
   "cell_type": "markdown",
   "id": "901249ce-ef4c-41d6-9fee-b4c680123cd2",
   "metadata": {},
   "source": [
    "for loop internally put the string inside the iterator and then takeout value by using next. "
   ]
  },
  {
   "cell_type": "markdown",
   "id": "d2ea77b0-5495-48df-a274-915d89fb1ade",
   "metadata": {},
   "source": [
    "##### Integer is not iterator and not iterable."
   ]
  },
  {
   "cell_type": "code",
   "execution_count": 19,
   "id": "3a1642c2-b327-4533-8f92-f9d0b9f89710",
   "metadata": {},
   "outputs": [
    {
     "ename": "TypeError",
     "evalue": "'int' object is not an iterator",
     "output_type": "error",
     "traceback": [
      "\u001b[0;31m---------------------------------------------------------------------------\u001b[0m",
      "\u001b[0;31mTypeError\u001b[0m                                 Traceback (most recent call last)",
      "Cell \u001b[0;32mIn[19], line 1\u001b[0m\n\u001b[0;32m----> 1\u001b[0m \u001b[38;5;28;43mnext\u001b[39;49m\u001b[43m(\u001b[49m\u001b[38;5;241;43m42\u001b[39;49m\u001b[43m)\u001b[49m\n",
      "\u001b[0;31mTypeError\u001b[0m: 'int' object is not an iterator"
     ]
    }
   ],
   "source": [
    "next(42)"
   ]
  },
  {
   "cell_type": "code",
   "execution_count": 20,
   "id": "542b92a3-14e2-43cd-9cc7-eccae98d7608",
   "metadata": {},
   "outputs": [
    {
     "ename": "TypeError",
     "evalue": "'int' object is not iterable",
     "output_type": "error",
     "traceback": [
      "\u001b[0;31m---------------------------------------------------------------------------\u001b[0m",
      "\u001b[0;31mTypeError\u001b[0m                                 Traceback (most recent call last)",
      "Cell \u001b[0;32mIn[20], line 1\u001b[0m\n\u001b[0;32m----> 1\u001b[0m \u001b[38;5;28;43miter\u001b[39;49m\u001b[43m(\u001b[49m\u001b[38;5;241;43m45\u001b[39;49m\u001b[43m)\u001b[49m\n",
      "\u001b[0;31mTypeError\u001b[0m: 'int' object is not iterable"
     ]
    }
   ],
   "source": [
    "iter(45)"
   ]
  },
  {
   "cell_type": "markdown",
   "id": "ba25e6b6-700f-4620-8d01-7c425f37c356",
   "metadata": {},
   "source": [
    "##### The entity which are already iterable that can only be made iterator."
   ]
  },
  {
   "cell_type": "code",
   "execution_count": 23,
   "id": "969d2f09-3fdf-4183-b556-a7b82ca5bdfd",
   "metadata": {},
   "outputs": [],
   "source": [
    "# Another example\n",
    "def countTest(n):\n",
    "    count = 1\n",
    "    while count<n:\n",
    "        yield count\n",
    "        count = count+1"
   ]
  },
  {
   "cell_type": "code",
   "execution_count": 24,
   "id": "48b2c042-e1bf-48fc-96d9-4821ccc86d5e",
   "metadata": {},
   "outputs": [],
   "source": [
    "c = countTest(5)    # Here Object of countTest is created."
   ]
  },
  {
   "cell_type": "code",
   "execution_count": 26,
   "id": "72f4ce12-17ad-40d2-8b5b-8978061c7265",
   "metadata": {},
   "outputs": [
    {
     "data": {
      "text/plain": [
       "<generator object countTest at 0x7fc555551e00>"
      ]
     },
     "execution_count": 26,
     "metadata": {},
     "output_type": "execute_result"
    }
   ],
   "source": [
    "countTest(5)"
   ]
  },
  {
   "cell_type": "code",
   "execution_count": 25,
   "id": "9ee8c449-1bc6-4581-bcad-ace7711cb149",
   "metadata": {},
   "outputs": [
    {
     "name": "stdout",
     "output_type": "stream",
     "text": [
      "1\n",
      "2\n",
      "3\n",
      "4\n"
     ]
    }
   ],
   "source": [
    "for i in c:\n",
    "    print(i)"
   ]
  },
  {
   "cell_type": "markdown",
   "id": "fc5605cd-7aa1-4f57-9ac5-88b54d220d66",
   "metadata": {},
   "source": [
    "###### Note : return ek he baar me data bahar nikal deta hai while as yield ek ek kar ke data nikalta hai function se."
   ]
  },
  {
   "cell_type": "markdown",
   "id": "35cb4a32-81e1-4888-bc4f-b2f92aa0c7f6",
   "metadata": {},
   "source": [
    "# END"
   ]
  }
 ],
 "metadata": {
  "kernelspec": {
   "display_name": "Python 3 (ipykernel)",
   "language": "python",
   "name": "python3"
  },
  "language_info": {
   "codemirror_mode": {
    "name": "ipython",
    "version": 3
   },
   "file_extension": ".py",
   "mimetype": "text/x-python",
   "name": "python",
   "nbconvert_exporter": "python",
   "pygments_lexer": "ipython3",
   "version": "3.10.8"
  }
 },
 "nbformat": 4,
 "nbformat_minor": 5
}
