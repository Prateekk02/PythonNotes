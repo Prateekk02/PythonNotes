{
 "cells": [
  {
   "cell_type": "markdown",
   "id": "07216a9b-5601-4e9d-b252-e836106a99a4",
   "metadata": {},
   "source": [
    "# Object-Oriented Programming System"
   ]
  },
  {
   "cell_type": "code",
   "execution_count": 1,
   "id": "2cdd52e7-21ad-4f2c-9a2c-fcc4f41f575f",
   "metadata": {},
   "outputs": [],
   "source": [
    "a = 1"
   ]
  },
  {
   "cell_type": "code",
   "execution_count": 2,
   "id": "b44a06d8-2801-4a6b-b4be-ac86d8f0688d",
   "metadata": {},
   "outputs": [
    {
     "name": "stdout",
     "output_type": "stream",
     "text": [
      "<class 'int'>\n"
     ]
    }
   ],
   "source": [
    "print(type(a))"
   ]
  },
  {
   "cell_type": "markdown",
   "id": "5f48a2b3-2fd9-494e-8194-e8856fffe46a",
   "metadata": {},
   "source": [
    "### Classes - Blueprint, Userdefined data type"
   ]
  },
  {
   "cell_type": "markdown",
   "id": "7fe85fb7-bd09-42fd-a769-1f0181ba1bfa",
   "metadata": {},
   "source": [
    "- Classes classify real world entities"
   ]
  },
  {
   "cell_type": "markdown",
   "id": "3a90681b-627c-4097-9113-01bb88db9b6e",
   "metadata": {},
   "source": [
    "### Object - Real world entity, instance of a class."
   ]
  },
  {
   "cell_type": "code",
   "execution_count": 3,
   "id": "ac88315f-3d51-4c9b-8649-ff182f318fc8",
   "metadata": {},
   "outputs": [],
   "source": [
    "class test:\n",
    "    pass"
   ]
  },
  {
   "cell_type": "markdown",
   "id": "08810ce6-5ded-4467-b549-78c7d8b64fd9",
   "metadata": {},
   "source": [
    "- Why we create class -> Differenct modules can be implemented efficiently and in structured manner,  reusable. "
   ]
  },
  {
   "cell_type": "code",
   "execution_count": 4,
   "id": "c30d8778-48d3-41d5-9739-24531e333e51",
   "metadata": {},
   "outputs": [],
   "source": [
    "a = test()"
   ]
  },
  {
   "cell_type": "code",
   "execution_count": 5,
   "id": "6d9a361f-37a4-4b0c-9ca0-af9afc57f8da",
   "metadata": {},
   "outputs": [
    {
     "data": {
      "text/plain": [
       "__main__.test"
      ]
     },
     "execution_count": 5,
     "metadata": {},
     "output_type": "execute_result"
    }
   ],
   "source": [
    "type(a)"
   ]
  },
  {
   "cell_type": "code",
   "execution_count": 6,
   "id": "a5e83d55-154c-4f77-9da0-bdfda8465a34",
   "metadata": {},
   "outputs": [
    {
     "name": "stdout",
     "output_type": "stream",
     "text": [
      "<class '__main__.test'>\n"
     ]
    }
   ],
   "source": [
    "print(type(a))"
   ]
  },
  {
   "cell_type": "code",
   "execution_count": 7,
   "id": "2bfc6e08-4ce8-47bf-8c99-cd128832274a",
   "metadata": {},
   "outputs": [],
   "source": [
    "class pwskills:\n",
    "    \n",
    "    def welcomeMsg():\n",
    "        print(\"Welcome to pwskills\")"
   ]
  },
  {
   "cell_type": "code",
   "execution_count": 8,
   "id": "5e5598cc-7fc1-4a7f-89d2-b9fc10dfb6f7",
   "metadata": {},
   "outputs": [],
   "source": [
    "prateek = pwskills()"
   ]
  },
  {
   "cell_type": "code",
   "execution_count": 9,
   "id": "51c96efd-25a4-4a24-8529-857bde09401d",
   "metadata": {},
   "outputs": [
    {
     "name": "stdout",
     "output_type": "stream",
     "text": [
      "<class '__main__.pwskills'>\n"
     ]
    }
   ],
   "source": [
    "print(type(prateek))"
   ]
  },
  {
   "cell_type": "code",
   "execution_count": 10,
   "id": "c9807ea2-26d3-42ed-93ba-face429ebe8c",
   "metadata": {},
   "outputs": [
    {
     "ename": "TypeError",
     "evalue": "pwskills.welcomeMsg() takes 0 positional arguments but 1 was given",
     "output_type": "error",
     "traceback": [
      "\u001b[0;31m---------------------------------------------------------------------------\u001b[0m",
      "\u001b[0;31mTypeError\u001b[0m                                 Traceback (most recent call last)",
      "Cell \u001b[0;32mIn[10], line 1\u001b[0m\n\u001b[0;32m----> 1\u001b[0m \u001b[43mprateek\u001b[49m\u001b[38;5;241;43m.\u001b[39;49m\u001b[43mwelcomeMsg\u001b[49m\u001b[43m(\u001b[49m\u001b[43m)\u001b[49m\n",
      "\u001b[0;31mTypeError\u001b[0m: pwskills.welcomeMsg() takes 0 positional arguments but 1 was given"
     ]
    }
   ],
   "source": [
    "prateek.welcomeMsg()"
   ]
  },
  {
   "cell_type": "code",
   "execution_count": 11,
   "id": "1e36a949-8884-44f3-8aad-34b0bfdfddca",
   "metadata": {},
   "outputs": [],
   "source": [
    "class pwskills1:\n",
    "    def welcomeMsg1(self):\n",
    "        print(\"Welcome to pwskills\")"
   ]
  },
  {
   "cell_type": "code",
   "execution_count": 12,
   "id": "501a70db-1377-4f70-ba5c-07d14cc96713",
   "metadata": {},
   "outputs": [],
   "source": [
    "prateek1 = pwskills1()"
   ]
  },
  {
   "cell_type": "code",
   "execution_count": 14,
   "id": "17bea472-6518-4100-806e-055022b05b16",
   "metadata": {},
   "outputs": [
    {
     "name": "stdout",
     "output_type": "stream",
     "text": [
      "Welcome to pwskills\n"
     ]
    }
   ],
   "source": [
    "prateek1.welcomeMsg1()"
   ]
  },
  {
   "cell_type": "code",
   "execution_count": 20,
   "id": "144ec21f-a63b-46ef-8d72-89214180a16f",
   "metadata": {},
   "outputs": [],
   "source": [
    "class pwskills2:\n",
    "    def __init__(self , phoneNo, emailId, stuId):   # Constructor\n",
    "        self.phoneNo = phoneNo\n",
    "        self.emailId = emailId\n",
    "        self.stuId = stuId\n",
    "    def returnStuDetail(self):\n",
    "        return self.phoneNo, self.emailId, self.stuId"
   ]
  },
  {
   "cell_type": "code",
   "execution_count": 17,
   "id": "4a66b6db-9b74-4762-8056-65b873469ecc",
   "metadata": {},
   "outputs": [
    {
     "ename": "TypeError",
     "evalue": "pwskills2.__init__() missing 3 required positional arguments: 'phoneNo', 'emailId', and 'stuId'",
     "output_type": "error",
     "traceback": [
      "\u001b[0;31m---------------------------------------------------------------------------\u001b[0m",
      "\u001b[0;31mTypeError\u001b[0m                                 Traceback (most recent call last)",
      "Cell \u001b[0;32mIn[17], line 1\u001b[0m\n\u001b[0;32m----> 1\u001b[0m obj \u001b[38;5;241m=\u001b[39m \u001b[43mpwskills2\u001b[49m\u001b[43m(\u001b[49m\u001b[43m)\u001b[49m\n",
      "\u001b[0;31mTypeError\u001b[0m: pwskills2.__init__() missing 3 required positional arguments: 'phoneNo', 'emailId', and 'stuId'"
     ]
    }
   ],
   "source": [
    "|obj = pwskills2()"
   ]
  },
  {
   "cell_type": "code",
   "execution_count": 21,
   "id": "b2a7cb16-28c3-416e-a62c-e5bf94bd9993",
   "metadata": {},
   "outputs": [],
   "source": [
    "obj = pwskills2( 7858642578 , 'obj@gmail.com', 45897)"
   ]
  },
  {
   "cell_type": "code",
   "execution_count": 22,
   "id": "b051040d-ec7b-4990-8ca4-f5d5cb939f64",
   "metadata": {},
   "outputs": [
    {
     "data": {
      "text/plain": [
       "(7858642578, 'obj@gmail.com', 45897)"
      ]
     },
     "execution_count": 22,
     "metadata": {},
     "output_type": "execute_result"
    }
   ],
   "source": [
    "obj.returnStuDetail()"
   ]
  },
  {
   "cell_type": "code",
   "execution_count": 28,
   "id": "01436569-18b6-4d21-a842-85e758f83d1f",
   "metadata": {},
   "outputs": [
    {
     "data": {
      "text/plain": [
       "7858642578"
      ]
     },
     "execution_count": 28,
     "metadata": {},
     "output_type": "execute_result"
    }
   ],
   "source": [
    "obj.phoneNo"
   ]
  },
  {
   "cell_type": "code",
   "execution_count": 29,
   "id": "88f98aa5-dca0-4def-94d0-a3ead6b463b7",
   "metadata": {},
   "outputs": [
    {
     "data": {
      "text/plain": [
       "'obj@gmail.com'"
      ]
     },
     "execution_count": 29,
     "metadata": {},
     "output_type": "execute_result"
    }
   ],
   "source": [
    "obj.emailId"
   ]
  },
  {
   "cell_type": "code",
   "execution_count": 30,
   "id": "cca47133-465a-472d-a3ee-621a1eeef08e",
   "metadata": {},
   "outputs": [
    {
     "data": {
      "text/plain": [
       "45897"
      ]
     },
     "execution_count": 30,
     "metadata": {},
     "output_type": "execute_result"
    }
   ],
   "source": [
    "obj.stuId"
   ]
  },
  {
   "cell_type": "code",
   "execution_count": 23,
   "id": "b616ba89-41f0-4773-8266-c05b816a9df4",
   "metadata": {},
   "outputs": [
    {
     "data": {
      "text/plain": [
       "(2344533554, 'obj2@gmail.com', 9876)"
      ]
     },
     "execution_count": 23,
     "metadata": {},
     "output_type": "execute_result"
    }
   ],
   "source": [
    "obj2 = pwskills2(2344533554, 'obj2@gmail.com' , 9876)\n",
    "obj2.returnStuDetail()"
   ]
  },
  {
   "cell_type": "markdown",
   "id": "4beb6b81-f75c-47bc-852e-300187bdb421",
   "metadata": {},
   "source": [
    "###### -----------------------------------------------------------------------------------------------------------------------------------------------------------------------------------"
   ]
  },
  {
   "cell_type": "code",
   "execution_count": 25,
   "id": "9dc680d3-b393-41e3-bf5a-5d9115bd5801",
   "metadata": {},
   "outputs": [],
   "source": [
    "class pwskills3:\n",
    "    def __init__(self , phoneNo, emailId, stuId):   # Constructor\n",
    "        self.phoneNo1 = phoneNo\n",
    "        self.emailId1 = emailId\n",
    "        self.stuId11 = stuId\n",
    "    def returnStuDetail(self):\n",
    "        return self.phoneNo1, self.emailId1, self.stuId1"
   ]
  },
  {
   "cell_type": "code",
   "execution_count": 26,
   "id": "dcfac0cd-f32a-492d-a7f8-7fb7f3b90ed8",
   "metadata": {},
   "outputs": [],
   "source": [
    "obj3 = pwskills3(321513434, 'obj3@gmail.com', 102)"
   ]
  },
  {
   "cell_type": "code",
   "execution_count": 27,
   "id": "fe1895e2-2d03-4cf0-aa78-cfb56c8c7251",
   "metadata": {},
   "outputs": [
    {
     "data": {
      "text/plain": [
       "<__main__.pwskills3 at 0x7fb1a85cfe80>"
      ]
     },
     "execution_count": 27,
     "metadata": {},
     "output_type": "execute_result"
    }
   ],
   "source": [
    "obj3"
   ]
  },
  {
   "cell_type": "code",
   "execution_count": 31,
   "id": "9b7fc4f9-d3e2-4970-ba1f-d2fa98f9aa42",
   "metadata": {},
   "outputs": [
    {
     "ename": "AttributeError",
     "evalue": "'pwskills3' object has no attribute 'phoneNo'",
     "output_type": "error",
     "traceback": [
      "\u001b[0;31m---------------------------------------------------------------------------\u001b[0m",
      "\u001b[0;31mAttributeError\u001b[0m                            Traceback (most recent call last)",
      "Cell \u001b[0;32mIn[31], line 1\u001b[0m\n\u001b[0;32m----> 1\u001b[0m \u001b[43mobj3\u001b[49m\u001b[38;5;241;43m.\u001b[39;49m\u001b[43mphoneNo\u001b[49m\n",
      "\u001b[0;31mAttributeError\u001b[0m: 'pwskills3' object has no attribute 'phoneNo'"
     ]
    }
   ],
   "source": [
    "obj3.phoneNo   #class knows only phoneNo1 of the class hence we get an error."
   ]
  },
  {
   "cell_type": "code",
   "execution_count": 32,
   "id": "8400de9f-70f8-4ca7-a2c2-d3d3a873ed28",
   "metadata": {},
   "outputs": [
    {
     "data": {
      "text/plain": [
       "321513434"
      ]
     },
     "execution_count": 32,
     "metadata": {},
     "output_type": "execute_result"
    }
   ],
   "source": [
    "obj3.phoneNo1"
   ]
  },
  {
   "cell_type": "markdown",
   "id": "fd8b07d0-a64f-4edb-93ba-eab3eb595941",
   "metadata": {},
   "source": [
    "##### Note: self is not a reserved keyword."
   ]
  },
  {
   "cell_type": "code",
   "execution_count": 44,
   "id": "ad8d67d5-e673-419f-a46f-62382c3c1736",
   "metadata": {},
   "outputs": [],
   "source": [
    "class pwskills4:\n",
    "    def __init__(psk , phoneNo, emailId, stuId):   # Constructor\n",
    "        psk.phoneNo = phoneNo\n",
    "        psk.emailId = emailId\n",
    "        psk.stuId = stuId\n",
    "    def returnStuDetail(psk):\n",
    "        return psk.phoneNo, psk.emailId, psk.stuId"
   ]
  },
  {
   "cell_type": "code",
   "execution_count": 45,
   "id": "3d1fe043-9f97-4c1d-8e1d-9c31d97020bb",
   "metadata": {},
   "outputs": [],
   "source": [
    "obj4 = pwskills4(123231231,';adfjs@gmail.com', 4547)"
   ]
  },
  {
   "cell_type": "code",
   "execution_count": 46,
   "id": "166092a8-b2aa-4b42-95cc-ef1d30b3b54d",
   "metadata": {},
   "outputs": [
    {
     "data": {
      "text/plain": [
       "(123231231, ';adfjs@gmail.com', 4547)"
      ]
     },
     "execution_count": 46,
     "metadata": {},
     "output_type": "execute_result"
    }
   ],
   "source": [
    "obj4.returnStuDetail()"
   ]
  },
  {
   "cell_type": "markdown",
   "id": "3ccfd98d-d0e5-41f1-9169-430d1bd61af1",
   "metadata": {},
   "source": [
    "# END"
   ]
  }
 ],
 "metadata": {
  "kernelspec": {
   "display_name": "Python 3 (ipykernel)",
   "language": "python",
   "name": "python3"
  },
  "language_info": {
   "codemirror_mode": {
    "name": "ipython",
    "version": 3
   },
   "file_extension": ".py",
   "mimetype": "text/x-python",
   "name": "python",
   "nbconvert_exporter": "python",
   "pygments_lexer": "ipython3",
   "version": "3.10.8"
  }
 },
 "nbformat": 4,
 "nbformat_minor": 5
}
