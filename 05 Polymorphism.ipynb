{
 "cells": [
  {
   "cell_type": "markdown",
   "id": "672bae03-b40f-44ae-ac22-8c0d0b165da6",
   "metadata": {},
   "source": [
    "# Polymorphism"
   ]
  },
  {
   "cell_type": "code",
   "execution_count": 1,
   "id": "e532ed9b-9c64-4e86-9730-296fcb0c912a",
   "metadata": {},
   "outputs": [],
   "source": [
    "def test(a,b):\n",
    "    return a+b"
   ]
  },
  {
   "cell_type": "code",
   "execution_count": 2,
   "id": "3dcb2007-3ea2-40fc-9e28-27d242b9f402",
   "metadata": {},
   "outputs": [
    {
     "data": {
      "text/plain": [
       "7"
      ]
     },
     "execution_count": 2,
     "metadata": {},
     "output_type": "execute_result"
    }
   ],
   "source": [
    "test(3,4)"
   ]
  },
  {
   "cell_type": "code",
   "execution_count": 4,
   "id": "c384a161-006c-4b54-962b-4c02b3b124da",
   "metadata": {},
   "outputs": [
    {
     "data": {
      "text/plain": [
       "'prateek kumar'"
      ]
     },
     "execution_count": 4,
     "metadata": {},
     "output_type": "execute_result"
    }
   ],
   "source": [
    "test('prateek', ' kumar')"
   ]
  },
  {
   "cell_type": "code",
   "execution_count": 5,
   "id": "a8b58477-e04e-4ad4-9319-66b9ac4a7e7f",
   "metadata": {},
   "outputs": [
    {
     "data": {
      "text/plain": [
       "[1, 2, 3, 3, 4, 5]"
      ]
     },
     "execution_count": 5,
     "metadata": {},
     "output_type": "execute_result"
    }
   ],
   "source": [
    "test([1,2,3], [3,4,5])"
   ]
  },
  {
   "cell_type": "code",
   "execution_count": 6,
   "id": "b53e17c6-1cf6-43c3-9584-702e69400b7c",
   "metadata": {},
   "outputs": [],
   "source": [
    "class dataSci:\n",
    "    def syllabus(self):\n",
    "        print('This is my syllabus for data science masters')"
   ]
  },
  {
   "cell_type": "code",
   "execution_count": 7,
   "id": "de54f93c-fb43-4c97-bff6-7310a715061e",
   "metadata": {},
   "outputs": [],
   "source": [
    "class webDev:\n",
    "    def syllabus(self):\n",
    "        print('This is my syllabus for web dev')"
   ]
  },
  {
   "cell_type": "code",
   "execution_count": 8,
   "id": "fa603b2b-e336-44bd-a656-0ce678941a83",
   "metadata": {},
   "outputs": [],
   "source": [
    "def classParcer(classObj):\n",
    "    for i in classObj:\n",
    "        i.syllabus()"
   ]
  },
  {
   "cell_type": "code",
   "execution_count": 9,
   "id": "1206072e-2f15-4430-be6e-79496ff57661",
   "metadata": {},
   "outputs": [],
   "source": [
    "dataSci = dataSci()"
   ]
  },
  {
   "cell_type": "code",
   "execution_count": 10,
   "id": "594fff8d-8801-438f-bfe9-fb67e0458929",
   "metadata": {},
   "outputs": [],
   "source": [
    "webDev = webDev()"
   ]
  },
  {
   "cell_type": "code",
   "execution_count": 11,
   "id": "ff1c539d-3197-424f-8a37-72efeea0b895",
   "metadata": {},
   "outputs": [],
   "source": [
    "classObj = [dataSci, webDev]"
   ]
  },
  {
   "cell_type": "code",
   "execution_count": 13,
   "id": "64434a87-5dd4-4103-8eb5-4d61a9edf4f5",
   "metadata": {},
   "outputs": [
    {
     "name": "stdout",
     "output_type": "stream",
     "text": [
      "This is my syllabus for data science masters\n",
      "This is my syllabus for web dev\n"
     ]
    }
   ],
   "source": [
    "classParcer(classObj)"
   ]
  },
  {
   "cell_type": "markdown",
   "id": "95c028e1-7ef6-4421-a1c9-ebdbdd624336",
   "metadata": {},
   "source": [
    "# END"
   ]
  }
 ],
 "metadata": {
  "kernelspec": {
   "display_name": "Python 3 (ipykernel)",
   "language": "python",
   "name": "python3"
  },
  "language_info": {
   "codemirror_mode": {
    "name": "ipython",
    "version": 3
   },
   "file_extension": ".py",
   "mimetype": "text/x-python",
   "name": "python",
   "nbconvert_exporter": "python",
   "pygments_lexer": "ipython3",
   "version": "3.10.8"
  }
 },
 "nbformat": 4,
 "nbformat_minor": 5
}
