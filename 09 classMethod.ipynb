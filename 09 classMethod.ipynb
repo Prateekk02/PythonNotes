{
 "cells": [
  {
   "cell_type": "markdown",
   "id": "017ae74b-50fb-4009-ad50-4a0277585d9d",
   "metadata": {},
   "source": [
    "# Class Method"
   ]
  },
  {
   "cell_type": "code",
   "execution_count": 1,
   "id": "cc59d192-02d7-4ecf-960d-0ba9cd90d010",
   "metadata": {},
   "outputs": [],
   "source": [
    "class pwskills:\n",
    "    \n",
    "    def __init__(self, name, email):\n",
    "        self.name = name\n",
    "        self.email = email\n",
    "    def studentDetails(self):\n",
    "        print(self.name, self.email)\n",
    "    "
   ]
  },
  {
   "cell_type": "code",
   "execution_count": 2,
   "id": "c3d08781-db9d-4e63-9538-4e34ef2fa3ed",
   "metadata": {},
   "outputs": [],
   "source": [
    "pw = pwskills('mohan', 'mohan@gmail.com')"
   ]
  },
  {
   "cell_type": "code",
   "execution_count": 3,
   "id": "9d400937-b7dc-44f7-985e-4117b305743e",
   "metadata": {},
   "outputs": [
    {
     "data": {
      "text/plain": [
       "'mohan'"
      ]
     },
     "execution_count": 3,
     "metadata": {},
     "output_type": "execute_result"
    }
   ],
   "source": [
    "pw.name"
   ]
  },
  {
   "cell_type": "code",
   "execution_count": 4,
   "id": "36c79704-a841-440e-9c7b-5cf26aa24571",
   "metadata": {},
   "outputs": [
    {
     "data": {
      "text/plain": [
       "'mohan@gmail.com'"
      ]
     },
     "execution_count": 4,
     "metadata": {},
     "output_type": "execute_result"
    }
   ],
   "source": [
    "pw.email"
   ]
  },
  {
   "cell_type": "code",
   "execution_count": 9,
   "id": "a6a2ce88-d350-40b6-9c34-818f99703abf",
   "metadata": {},
   "outputs": [
    {
     "name": "stdout",
     "output_type": "stream",
     "text": [
      "mohan mohan@gmail.com\n"
     ]
    }
   ],
   "source": [
    "pw.studentDetails()"
   ]
  },
  {
   "cell_type": "code",
   "execution_count": 13,
   "id": "df6aad3f-94d8-443b-a901-26b2329ba59e",
   "metadata": {},
   "outputs": [],
   "source": [
    "# To do the same task another way\n",
    "class pwskills1:\n",
    "    \n",
    "    def __init__(self, name, email):\n",
    "        self.name = name\n",
    "        self.email = email\n",
    "    @classmethod      # Builtin decorator function.\n",
    "    def details(cls, name, email):\n",
    "        return cls(name, email)\n",
    "    \n",
    "    def studentDetails(self):\n",
    "        print(self.name, self.email)\n",
    "    "
   ]
  },
  {
   "cell_type": "markdown",
   "id": "712f2113-c66a-4e27-b3f8-8b2e7de547d7",
   "metadata": {},
   "source": [
    "- Without creating object we can access function of the class pwskills1()"
   ]
  },
  {
   "cell_type": "code",
   "execution_count": 16,
   "id": "baad0244-6f05-4f74-b1c4-d66023452251",
   "metadata": {},
   "outputs": [
    {
     "data": {
      "text/plain": [
       "<__main__.pwskills1 at 0x7f17944cc9d0>"
      ]
     },
     "execution_count": 16,
     "metadata": {},
     "output_type": "execute_result"
    }
   ],
   "source": [
    " pwskills1.details('sudh', 'sudh@gmail.com')"
   ]
  },
  {
   "cell_type": "code",
   "execution_count": 17,
   "id": "40d6edb1-8e9d-44d9-841d-e190fa69b672",
   "metadata": {},
   "outputs": [],
   "source": [
    "pw1 = pwskills1.details('sudh', 'sudh@gmail.com')"
   ]
  },
  {
   "cell_type": "markdown",
   "id": "1f83bfc0-2df4-46d2-abfd-f242a90122bd",
   "metadata": {},
   "source": [
    "- We overload the init method without creating an object using classmethod\n"
   ]
  },
  {
   "cell_type": "code",
   "execution_count": 18,
   "id": "6bf6b0c5-ffaf-4ff6-a42a-7ac19813bc62",
   "metadata": {},
   "outputs": [
    {
     "data": {
      "text/plain": [
       "'sudh@gmail.com'"
      ]
     },
     "execution_count": 18,
     "metadata": {},
     "output_type": "execute_result"
    }
   ],
   "source": [
    "pw1.email"
   ]
  },
  {
   "cell_type": "code",
   "execution_count": 19,
   "id": "5d619143-4089-4fc5-8b51-14868c1d998d",
   "metadata": {},
   "outputs": [
    {
     "name": "stdout",
     "output_type": "stream",
     "text": [
      "sudh sudh@gmail.com\n"
     ]
    }
   ],
   "source": [
    "pw1.studentDetails()"
   ]
  },
  {
   "cell_type": "markdown",
   "id": "a6ff4c8c-ed68-4205-8599-7679b61cfc41",
   "metadata": {},
   "source": [
    "##### Another Example"
   ]
  },
  {
   "cell_type": "code",
   "execution_count": 21,
   "id": "caed7842-b858-4f35-8a52-f8aec279f4ac",
   "metadata": {},
   "outputs": [],
   "source": [
    "class pwskills2:\n",
    "    \n",
    "    mobileNo = 7898985845     # ---> class variable\n",
    "    \n",
    "    def __init__(self, name, email):\n",
    "        self.name = name\n",
    "        self.email = email\n",
    "    @classmethod      # Builtin decorator function.\n",
    "    def details(cls, name, email):\n",
    "        return cls(name, email)\n",
    "    \n",
    "    def studentDetails(self):\n",
    "        print(self.name, self.email)\n",
    "    "
   ]
  },
  {
   "cell_type": "code",
   "execution_count": 23,
   "id": "da0c66a9-10bf-45eb-90a2-d8d59edd42c8",
   "metadata": {},
   "outputs": [
    {
     "data": {
      "text/plain": [
       "7898985845"
      ]
     },
     "execution_count": 23,
     "metadata": {},
     "output_type": "execute_result"
    }
   ],
   "source": [
    "pwskills2.mobileNo # this variable is accessible without creating any variable."
   ]
  },
  {
   "cell_type": "markdown",
   "id": "3bc5bc97-ae16-4cb7-bcb3-c83f5e8aba0b",
   "metadata": {},
   "source": [
    "- We can access class variable in class method also"
   ]
  },
  {
   "cell_type": "code",
   "execution_count": 39,
   "id": "5bda375b-71db-4a76-8fc6-d0d4c95527d5",
   "metadata": {},
   "outputs": [],
   "source": [
    "class pwskills2:\n",
    "    \n",
    "    mobileNo = 7898985845     # ---> class variable\n",
    "    \n",
    "    def __init__(self, name, email):\n",
    "        self.name = name\n",
    "        self.email = email\n",
    "        \n",
    "    @classmethod\n",
    "    def changeMobileNo(cls, mobile):\n",
    "        pwskills2.mobileNo = mobile\n",
    "        \n",
    "    @classmethod      # Builtin decorator function.\n",
    "    def details(cls, name, email):\n",
    "        return cls(name, email)s\n",
    "    \n",
    "    def studentDetails(self):\n",
    "        print(self.name, self.email , pwskills2.mobileNo)\n",
    "    "
   ]
  },
  {
   "cell_type": "markdown",
   "id": "36889285-f1c1-4701-8901-bf3d0e39d098",
   "metadata": {},
   "source": [
    "- Now we can access changeMobileNo() without creating any object of class pwskills2"
   ]
  },
  {
   "cell_type": "code",
   "execution_count": 47,
   "id": "2dc45fee-d2ce-4afd-9b75-5e5affd719cf",
   "metadata": {},
   "outputs": [],
   "source": [
    "pwskills2.changeMobileNo(85555555555)"
   ]
  },
  {
   "cell_type": "code",
   "execution_count": 48,
   "id": "966e209d-54d2-4a20-8db3-99ab97586611",
   "metadata": {},
   "outputs": [
    {
     "data": {
      "text/plain": [
       "85555555555"
      ]
     },
     "execution_count": 48,
     "metadata": {},
     "output_type": "execute_result"
    }
   ],
   "source": [
    "pwskills2.mobileNo"
   ]
  },
  {
   "cell_type": "markdown",
   "id": "9a137a5a-41f0-4f9d-8ee4-81acb19b203c",
   "metadata": {},
   "source": [
    "- Clearly, we successfully changed the mobile no without creating any object"
   ]
  },
  {
   "cell_type": "markdown",
   "id": "3b07bdeb-aae1-4b81-b68f-726ba390fae8",
   "metadata": {},
   "source": [
    "##### Two method to access studentDetails()"
   ]
  },
  {
   "cell_type": "markdown",
   "id": "b6e642c3-5842-4c36-9e2d-4143f7179a3a",
   "metadata": {},
   "source": [
    "##### 1) By creating an object"
   ]
  },
  {
   "cell_type": "code",
   "execution_count": 49,
   "id": "a1e22c9e-66a5-4d21-9ec1-90ac2825733a",
   "metadata": {},
   "outputs": [],
   "source": [
    "pw_obj = pwskills2('sudh', 'sudh@gmail.com')"
   ]
  },
  {
   "cell_type": "code",
   "execution_count": 50,
   "id": "6cef7e58-daf7-47a7-8691-5288191c9111",
   "metadata": {},
   "outputs": [
    {
     "name": "stdout",
     "output_type": "stream",
     "text": [
      "sudh sudh@gmail.com 85555555555\n"
     ]
    }
   ],
   "source": [
    "pw_obj.studentDetails()"
   ]
  },
  {
   "cell_type": "markdown",
   "id": "0b1b1323-22b9-4e09-aefb-07a983ef1d62",
   "metadata": {},
   "source": [
    "#### 2) By using class Method"
   ]
  },
  {
   "cell_type": "code",
   "execution_count": 51,
   "id": "ec63ee67-256f-430e-943c-b690f3e164f6",
   "metadata": {},
   "outputs": [],
   "source": [
    "pw = pwskills2.details('rohan', 'rohan@gmail.com')"
   ]
  },
  {
   "cell_type": "code",
   "execution_count": 53,
   "id": "f03c0284-66cf-4ede-ac61-cf55268e23f3",
   "metadata": {},
   "outputs": [
    {
     "name": "stdout",
     "output_type": "stream",
     "text": [
      "rohan rohan@gmail.com 85555555555\n"
     ]
    }
   ],
   "source": [
    "pw.studentDetails()"
   ]
  },
  {
   "cell_type": "markdown",
   "id": "734caf92-cf75-4383-b597-fb868b6d3b6e",
   "metadata": {},
   "source": [
    "- With the help of class Method we are able to achieve overloading."
   ]
  },
  {
   "cell_type": "markdown",
   "id": "a259b311-0afd-4cb2-b79d-66ccb9a69823",
   "metadata": {},
   "source": [
    "### To add external method into the class"
   ]
  },
  {
   "cell_type": "code",
   "execution_count": 64,
   "id": "03848554-2f7b-4120-80cf-9e26b831d8ed",
   "metadata": {},
   "outputs": [],
   "source": [
    "class pwskills3:\n",
    "    \n",
    "    mobileNo = 7898985845     # ---> class variable\n",
    "    \n",
    "    def __init__(self, name, email):\n",
    "        self.name = name\n",
    "        self.email = email\n",
    "        \n",
    "    @classmethod\n",
    "    def changeMobileNo(cls, mobile):\n",
    "        pwskills2.mobileNo = mobile\n",
    "        \n",
    "    @classmethod      # Builtin decorator function.\n",
    "    def details(cls, name, email):\n",
    "        return cls(name, email)\n",
    "    \n",
    "    def studentDetails(self):\n",
    "        print(self.name, self.email , pwskills2.mobileNo)\n",
    "    "
   ]
  },
  {
   "cell_type": "code",
   "execution_count": 65,
   "id": "ecceafda-ecca-4f42-8a2f-8cef644e420e",
   "metadata": {},
   "outputs": [],
   "source": [
    "def course_details(cls,course_name):\n",
    "    print(\"course name is \" , course_name)   \n",
    "    "
   ]
  },
  {
   "cell_type": "code",
   "execution_count": 67,
   "id": "56eb679e-ce3c-4151-80a1-50ff8acb4328",
   "metadata": {},
   "outputs": [],
   "source": [
    "pwskills3.course_details = classmethod(course_details)"
   ]
  },
  {
   "cell_type": "code",
   "execution_count": 59,
   "id": "39baa5df-54f2-4359-bd75-ebcaf8dacdd0",
   "metadata": {},
   "outputs": [
    {
     "name": "stdout",
     "output_type": "stream",
     "text": [
      "course name is  data science master\n"
     ]
    }
   ],
   "source": [
    "pwskills3.course_details('data science master')"
   ]
  },
  {
   "cell_type": "code",
   "execution_count": 68,
   "id": "b4fc2482-f258-414f-8b3f-4c23afb70de9",
   "metadata": {},
   "outputs": [],
   "source": [
    "# Adding another function in pwskills3\n",
    "def mentor(cls, list_of_mentor):\n",
    "    print(list_of_mentor)"
   ]
  },
  {
   "cell_type": "code",
   "execution_count": 69,
   "id": "7a624a15-208a-4c5d-b660-b1f298d4286a",
   "metadata": {},
   "outputs": [],
   "source": [
    "pwskills3.mentor = classmethod(mentor)"
   ]
  },
  {
   "cell_type": "code",
   "execution_count": 71,
   "id": "17b6d5b1-2b04-48cb-aa20-29cb8580d310",
   "metadata": {},
   "outputs": [
    {
     "name": "stdout",
     "output_type": "stream",
     "text": [
      "sudh\n"
     ]
    }
   ],
   "source": [
    "pwskills3.mentor('sudh')"
   ]
  },
  {
   "cell_type": "markdown",
   "id": "0993d990-5a11-409e-8214-c53339db40eb",
   "metadata": {},
   "source": [
    "### To delete member function of a class."
   ]
  },
  {
   "cell_type": "code",
   "execution_count": 72,
   "id": "17b134c2-23d8-4f90-a22d-c5b70d930ced",
   "metadata": {},
   "outputs": [],
   "source": [
    "class pwskills4:\n",
    "    \n",
    "    mobileNo = 7898985845     # ---> class variable\n",
    "    \n",
    "    def __init__(self, name, email):\n",
    "        self.name = name\n",
    "        self.email = email\n",
    "        \n",
    "    @classmethod\n",
    "    def changeMobileNo(cls, mobile):\n",
    "        pwskills2.mobileNo = mobile\n",
    "        \n",
    "    @classmethod      # Builtin decorator function.\n",
    "    def details(cls, name, email):\n",
    "        return cls(name, email)\n",
    "    \n",
    "    def studentDetails(self):\n",
    "        print(self.name, self.email , pwskills2.mobileNo)\n",
    "    "
   ]
  },
  {
   "cell_type": "code",
   "execution_count": 74,
   "id": "771092df-c0fb-4533-9a62-b0748b9f9224",
   "metadata": {},
   "outputs": [],
   "source": [
    "del pwskills4.changeMobileNo"
   ]
  },
  {
   "cell_type": "code",
   "execution_count": 79,
   "id": "9bd25774-dd91-4281-99f8-469aaafcc6ce",
   "metadata": {},
   "outputs": [
    {
     "ename": "AttributeError",
     "evalue": "type object 'pwskills4' has no attribute 'changeMobileNo'",
     "output_type": "error",
     "traceback": [
      "\u001b[0;31m---------------------------------------------------------------------------\u001b[0m",
      "\u001b[0;31mAttributeError\u001b[0m                            Traceback (most recent call last)",
      "Cell \u001b[0;32mIn[79], line 1\u001b[0m\n\u001b[0;32m----> 1\u001b[0m \u001b[43mpwskills4\u001b[49m\u001b[38;5;241;43m.\u001b[39;49m\u001b[43mchangeMobileNo\u001b[49m    \u001b[38;5;66;03m# Press tab and you won't see any function changeMobileNo\u001b[39;00m\n",
      "\u001b[0;31mAttributeError\u001b[0m: type object 'pwskills4' has no attribute 'changeMobileNo'"
     ]
    }
   ],
   "source": [
    "pwskills4.changeMobileNo    # Press tab and you won't see any function changeMobileNo"
   ]
  },
  {
   "cell_type": "markdown",
   "id": "274b9ef1-c6e9-42ff-99bd-877d4a0681d2",
   "metadata": {},
   "source": [
    "- Another method to delete"
   ]
  },
  {
   "cell_type": "code",
   "execution_count": 80,
   "id": "a0681030-269d-4000-b5a9-18a61238eb2e",
   "metadata": {},
   "outputs": [],
   "source": [
    "delattr(pwskills4, 'details')"
   ]
  },
  {
   "cell_type": "code",
   "execution_count": 81,
   "id": "cc0d02be-f7c5-4ee5-a285-025fe59dbc12",
   "metadata": {},
   "outputs": [
    {
     "ename": "AttributeError",
     "evalue": "type object 'pwskills4' has no attribute 'details'",
     "output_type": "error",
     "traceback": [
      "\u001b[0;31m---------------------------------------------------------------------------\u001b[0m",
      "\u001b[0;31mAttributeError\u001b[0m                            Traceback (most recent call last)",
      "Cell \u001b[0;32mIn[81], line 1\u001b[0m\n\u001b[0;32m----> 1\u001b[0m \u001b[43mpwskills4\u001b[49m\u001b[38;5;241;43m.\u001b[39;49m\u001b[43mdetails\u001b[49m()\n",
      "\u001b[0;31mAttributeError\u001b[0m: type object 'pwskills4' has no attribute 'details'"
     ]
    }
   ],
   "source": [
    "pwskills4.details()"
   ]
  },
  {
   "cell_type": "code",
   "execution_count": 82,
   "id": "9c5114c8-2311-40ef-b475-a2eb45c74f40",
   "metadata": {},
   "outputs": [],
   "source": [
    "delattr(pwskills4, 'studentDetails')"
   ]
  },
  {
   "cell_type": "code",
   "execution_count": 83,
   "id": "16fbf31a-25db-4ec2-a055-be35340aabf6",
   "metadata": {},
   "outputs": [],
   "source": [
    "delattr(pwskills4, 'mobileNo')"
   ]
  },
  {
   "cell_type": "markdown",
   "id": "23eb42d4-a9f4-4092-91e9-cf9d6e34c0fa",
   "metadata": {},
   "source": [
    "##### <b>Conclusion</b>:<i> We can overload init with the help of class method and we can use it to add external function to the class as well as delete the existing member function and data variables in the class.</i>"
   ]
  },
  {
   "cell_type": "markdown",
   "id": "165187b2-e638-4e8a-9e56-e8beedce21f1",
   "metadata": {},
   "source": [
    "# END"
   ]
  }
 ],
 "metadata": {
  "kernelspec": {
   "display_name": "Python 3 (ipykernel)",
   "language": "python",
   "name": "python3"
  },
  "language_info": {
   "codemirror_mode": {
    "name": "ipython",
    "version": 3
   },
   "file_extension": ".py",
   "mimetype": "text/x-python",
   "name": "python",
   "nbconvert_exporter": "python",
   "pygments_lexer": "ipython3",
   "version": "3.10.8"
  }
 },
 "nbformat": 4,
 "nbformat_minor": 5
}
