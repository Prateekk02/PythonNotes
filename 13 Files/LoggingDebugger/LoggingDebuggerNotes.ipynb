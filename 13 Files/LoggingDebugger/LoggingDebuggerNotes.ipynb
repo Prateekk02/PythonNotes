{
 "cells": [
  {
   "cell_type": "markdown",
   "id": "593f60d1-48d1-4fd4-90a7-fe1c5984ec52",
   "metadata": {},
   "source": [
    "# Logging Debugger"
   ]
  },
  {
   "cell_type": "markdown",
   "id": "25fb7dc4-e65f-498a-bab5-0c7cf340de04",
   "metadata": {},
   "source": [
    "For Production grade code it is recommanded to use login instead of print because login stores the data for further investigation."
   ]
  },
  {
   "cell_type": "markdown",
   "id": "4da51b8d-2b13-4f7c-aeb5-70276b7a9ef7",
   "metadata": {},
   "source": [
    "- Now instead of printing the statement in the consol we are storing the output in a file for further investigation."
   ]
  },
  {
   "cell_type": "markdown",
   "id": "59041656-31d4-4138-babf-e51323d36de9",
   "metadata": {},
   "source": [
    "- Levels of logging"
   ]
  },
  {
   "cell_type": "markdown",
   "id": "34744c22-00c9-4753-ba96-47a24259a413",
   "metadata": {},
   "source": [
    "1) NOTSET\n",
    "2) DEBUG\n",
    "3) INFO\n",
    "4) WARNING\n",
    "5) ERROR\n",
    "6) CRITICAL"
   ]
  }
 ],
 "metadata": {
  "kernelspec": {
   "display_name": "Python 3 (ipykernel)",
   "language": "python",
   "name": "python3"
  },
  "language_info": {
   "codemirror_mode": {
    "name": "ipython",
    "version": 3
   },
   "file_extension": ".py",
   "mimetype": "text/x-python",
   "name": "python",
   "nbconvert_exporter": "python",
   "pygments_lexer": "ipython3",
   "version": "3.10.8"
  }
 },
 "nbformat": 4,
 "nbformat_minor": 5
}
