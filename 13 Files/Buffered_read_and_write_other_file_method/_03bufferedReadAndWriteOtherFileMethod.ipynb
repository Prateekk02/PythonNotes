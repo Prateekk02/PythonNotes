{
 "cells": [
  {
   "cell_type": "markdown",
   "id": "0170132f-c30f-4119-a5f7-6accb68e593c",
   "metadata": {},
   "source": [
    "# Buffered Read And Write Other File Method"
   ]
  },
  {
   "cell_type": "markdown",
   "id": "42c30663-e4a9-4b0f-b49a-002d2461a754",
   "metadata": {},
   "source": [
    "Using buffer technique larger files are read in the form of small chunks."
   ]
  },
  {
   "cell_type": "code",
   "execution_count": 14,
   "id": "bda52ff1-59a8-40b1-8015-1b5d27d7561a",
   "metadata": {},
   "outputs": [],
   "source": [
    "import io"
   ]
  },
  {
   "cell_type": "code",
   "execution_count": 15,
   "id": "c867beb0-f25c-45cd-bd9f-2e95f0f5dd14",
   "metadata": {},
   "outputs": [],
   "source": [
    "with open('buffer1.txt', 'wb') as f:\n",
    "    file = io.BufferedWriter(f)\n",
    "    \n",
    "    file.write(b\"this is my first line\\n\")\n",
    "    file.write(b\"this is my second line\\n\")\n",
    "    file.flush()     "
   ]
  },
  {
   "cell_type": "markdown",
   "id": "ef9ea4e5-dedf-4bd8-a3a3-f9144c7199fd",
   "metadata": {},
   "source": [
    "file.flush() is analogus for f.close() in case of buffered"
   ]
  },
  {
   "cell_type": "code",
   "execution_count": 16,
   "id": "15c21429-c7c3-4d69-9906-5cce4d631025",
   "metadata": {},
   "outputs": [],
   "source": [
    "with open('buffer2.txt', 'wb') as f:\n",
    "    file = io.BufferedWriter(f)\n",
    "    \n",
    "    file.write(b\"Now is the winter of our discontent Made glorious summer by this sun of York; And all the clouds that lour\\'d upon our house In the deep bosom of the ocean buried. Now are our brows bound with victorious wreaths; Our bruised arms hung up for monuments; Our stern alarums changed to merry meetings, Our dreadful marches to delightful measures. Grim-visaged war hath smooth\\'d his wrinkled front; And now, instead of mounting barded steeds\")\n",
    "    file.write(b\"\\n THIS IS THE END OF THE FILE\")\n",
    "    file.flush()"
   ]
  },
  {
   "cell_type": "markdown",
   "id": "745b85e7-e254-4e9a-9d6e-7cc08a1b1cb6",
   "metadata": {},
   "source": [
    "### Reading the buffered file"
   ]
  },
  {
   "cell_type": "code",
   "execution_count": 17,
   "id": "5894ad9c-f446-4993-b19f-688b4eb9cf19",
   "metadata": {},
   "outputs": [],
   "source": [
    "with open(\"buffer2.txt\", \"rb\") as f:\n",
    "    file = io.BufferedReader(f)\n",
    "    \n",
    "    #data1 = file.read()\n",
    "    data2 = file.read(10)\n",
    "    \n",
    "   "
   ]
  },
  {
   "cell_type": "code",
   "execution_count": 18,
   "id": "c1a9ffa5-4dbb-4fd2-ab52-e6141f41c9c0",
   "metadata": {},
   "outputs": [
    {
     "name": "stdout",
     "output_type": "stream",
     "text": [
      "b\"Now is the winter of our discontent Made glorious summer by this sun of York; And all the clouds that lour'd upon our house In the deep bosom of the ocean buried. Now are our brows bound with victorious wreaths; Our bruised arms hung up for monuments; Our stern alarums changed to merry meetings, Our dreadful marches to delightful measures. Grim-visaged war hath smooth'd his wrinkled front; And now, instead of mounting barded steeds\\n THIS IS THE END OF THE FILE\"\n"
     ]
    }
   ],
   "source": [
    "print(data1)"
   ]
  },
  {
   "cell_type": "code",
   "execution_count": 19,
   "id": "8580cdbf-a600-4293-b6f9-1eb0beb8b844",
   "metadata": {},
   "outputs": [
    {
     "name": "stdout",
     "output_type": "stream",
     "text": [
      "b'Now is the'\n"
     ]
    }
   ],
   "source": [
    "print(data2)   # comment data1"
   ]
  },
  {
   "cell_type": "markdown",
   "id": "be6fdab9-c892-47f8-b251-e24d8470c048",
   "metadata": {},
   "source": [
    "# END"
   ]
  }
 ],
 "metadata": {
  "kernelspec": {
   "display_name": "Python 3 (ipykernel)",
   "language": "python",
   "name": "python3"
  },
  "language_info": {
   "codemirror_mode": {
    "name": "ipython",
    "version": 3
   },
   "file_extension": ".py",
   "mimetype": "text/x-python",
   "name": "python",
   "nbconvert_exporter": "python",
   "pygments_lexer": "ipython3",
   "version": "3.10.8"
  }
 },
 "nbformat": 4,
 "nbformat_minor": 5
}
