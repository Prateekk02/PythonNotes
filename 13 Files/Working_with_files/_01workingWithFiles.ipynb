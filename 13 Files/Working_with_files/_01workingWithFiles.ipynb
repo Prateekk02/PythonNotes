{
 "cells": [
  {
   "cell_type": "markdown",
   "id": "a20cf354-22d8-42c3-8390-95c27119f649",
   "metadata": {},
   "source": [
    "# Working with Files"
   ]
  },
  {
   "cell_type": "code",
   "execution_count": 23,
   "id": "5ca43668-add5-4d1d-b058-0a0e99b1110c",
   "metadata": {},
   "outputs": [],
   "source": [
    "f = open('text.txt','w')"
   ]
  },
  {
   "cell_type": "code",
   "execution_count": 24,
   "id": "de7e5fde-34e2-4a15-b806-144f0ed2ebfa",
   "metadata": {},
   "outputs": [
    {
     "data": {
      "text/plain": [
       "30"
      ]
     },
     "execution_count": 24,
     "metadata": {},
     "output_type": "execute_result"
    }
   ],
   "source": [
    "f.write('This is my first file to write')"
   ]
  },
  {
   "cell_type": "markdown",
   "id": "823f871a-4d97-44b7-b5ea-7ef60432ad13",
   "metadata": {},
   "source": [
    "- This is used to write text in the file, but in order to get the above written text in the file you must use f.close()"
   ]
  },
  {
   "cell_type": "code",
   "execution_count": 25,
   "id": "7f41d35c-8180-4588-bffc-2850198af6ad",
   "metadata": {},
   "outputs": [],
   "source": [
    "f.close()   "
   ]
  },
  {
   "cell_type": "code",
   "execution_count": 26,
   "id": "836789ce-3f9d-470d-a38c-fde015d1e130",
   "metadata": {},
   "outputs": [],
   "source": [
    "f = open('test.txt', 'w') "
   ]
  },
  {
   "cell_type": "markdown",
   "id": "52736908-4387-4f2f-8369-03ded401fed8",
   "metadata": {},
   "source": [
    "Using 'w' previous data gets deleted"
   ]
  },
  {
   "cell_type": "code",
   "execution_count": 27,
   "id": "9e60f6f3-f580-4f04-beed-83c51391ec35",
   "metadata": {},
   "outputs": [
    {
     "data": {
      "text/plain": [
       "15"
      ]
     },
     "execution_count": 27,
     "metadata": {},
     "output_type": "execute_result"
    }
   ],
   "source": [
    "f.write('this is my file')"
   ]
  },
  {
   "cell_type": "code",
   "execution_count": 28,
   "id": "c76e1981-27c2-4b8e-af72-3501d711ac21",
   "metadata": {},
   "outputs": [],
   "source": [
    "f.close()"
   ]
  },
  {
   "cell_type": "code",
   "execution_count": 29,
   "id": "14a64bbe-e6fd-4b7a-8646-2271ed92325f",
   "metadata": {},
   "outputs": [],
   "source": [
    "f = open('test.txt', 'a')"
   ]
  },
  {
   "cell_type": "code",
   "execution_count": 30,
   "id": "b74a9419-126f-4e90-b47f-faac406f004f",
   "metadata": {},
   "outputs": [
    {
     "data": {
      "text/plain": [
       "444"
      ]
     },
     "execution_count": 30,
     "metadata": {},
     "output_type": "execute_result"
    }
   ],
   "source": [
    "f.write('Lorem Ipsum is simply dummy text of the printing and typesetting industry. Lorem Ipsum has been the industry\\'s standard dummy text ever since the 1500s, when an unknown printer took a galley of type and scrambled it to make a type specimen book. It has survived not only five centuries, but also the leap into electronic typesetting, remaining essentially unchanged. It was popularised in the 1960s with the release of Letraset sheets containin')"
   ]
  },
  {
   "cell_type": "code",
   "execution_count": 31,
   "id": "0a57b7ff-2c4b-488a-84e5-3acd2810f84a",
   "metadata": {},
   "outputs": [],
   "source": [
    "f.close()"
   ]
  },
  {
   "cell_type": "code",
   "execution_count": 32,
   "id": "d67e5e53-f407-4822-8b54-efdd77948edc",
   "metadata": {},
   "outputs": [],
   "source": [
    "f = open('test.txt', 'r')"
   ]
  },
  {
   "cell_type": "code",
   "execution_count": 33,
   "id": "dfdf1cda-832d-4805-861c-3263acb6f842",
   "metadata": {},
   "outputs": [],
   "source": [
    "data = open('test.txt', 'r')"
   ]
  },
  {
   "cell_type": "code",
   "execution_count": 34,
   "id": "917ad87d-82aa-490f-acf4-0b9836eda267",
   "metadata": {},
   "outputs": [
    {
     "data": {
      "text/plain": [
       "\"this is my fileLorem Ipsum is simply dummy text of the printing and typesetting industry. Lorem Ipsum has been the industry's standard dummy text ever since the 1500s, when an unknown printer took a galley of type and scrambled it to make a type specimen book. It has survived not only five centuries, but also the leap into electronic typesetting, remaining essentially unchanged. It was popularised in the 1960s with the release of Letraset sheets containin\""
      ]
     },
     "execution_count": 34,
     "metadata": {},
     "output_type": "execute_result"
    }
   ],
   "source": [
    "data.read()"
   ]
  },
  {
   "cell_type": "code",
   "execution_count": 35,
   "id": "2979deb3-07c6-40c1-ba35-2a909cad988a",
   "metadata": {},
   "outputs": [
    {
     "data": {
      "text/plain": [
       "''"
      ]
     },
     "execution_count": 35,
     "metadata": {},
     "output_type": "execute_result"
    }
   ],
   "source": [
    "data.readline()"
   ]
  },
  {
   "cell_type": "code",
   "execution_count": 36,
   "id": "3e01c1f8-a2c6-4325-b4e2-390a9688156d",
   "metadata": {},
   "outputs": [
    {
     "data": {
      "text/plain": [
       "0"
      ]
     },
     "execution_count": 36,
     "metadata": {},
     "output_type": "execute_result"
    }
   ],
   "source": [
    "data.seek(0)  "
   ]
  },
  {
   "cell_type": "markdown",
   "id": "0b8139e3-e5ac-4daf-a637-58a7ea364475",
   "metadata": {},
   "source": [
    "Return back the pointer again to the first line"
   ]
  },
  {
   "cell_type": "code",
   "execution_count": 37,
   "id": "35cb8864-ed06-4330-b8e0-78ecd681a97e",
   "metadata": {},
   "outputs": [
    {
     "data": {
      "text/plain": [
       "10"
      ]
     },
     "execution_count": 37,
     "metadata": {},
     "output_type": "execute_result"
    }
   ],
   "source": [
    "data.seek(10)"
   ]
  },
  {
   "cell_type": "code",
   "execution_count": 38,
   "id": "864f09c9-1c9a-4c6f-a438-8ae327ac0dd6",
   "metadata": {},
   "outputs": [
    {
     "data": {
      "text/plain": [
       "\" fileLorem Ipsum is simply dummy text of the printing and typesetting industry. Lorem Ipsum has been the industry's standard dummy text ever since the 1500s, when an unknown printer took a galley of type and scrambled it to make a type specimen book. It has survived not only five centuries, but also the leap into electronic typesetting, remaining essentially unchanged. It was popularised in the 1960s with the release of Letraset sheets containin\""
      ]
     },
     "execution_count": 38,
     "metadata": {},
     "output_type": "execute_result"
    }
   ],
   "source": [
    "data.readline()"
   ]
  },
  {
   "cell_type": "code",
   "execution_count": 39,
   "id": "a728d361-5add-49e1-9f6b-dd1579b91e85",
   "metadata": {},
   "outputs": [],
   "source": [
    "data1 = open('test.txt', 'r')"
   ]
  },
  {
   "cell_type": "code",
   "execution_count": 40,
   "id": "6710b214-21b5-414c-8e37-5018f4800c7c",
   "metadata": {},
   "outputs": [
    {
     "name": "stdout",
     "output_type": "stream",
     "text": [
      "this is my fileLorem Ipsum is simply dummy text of the printing and typesetting industry. Lorem Ipsum has been the industry's standard dummy text ever since the 1500s, when an unknown printer took a galley of type and scrambled it to make a type specimen book. It has survived not only five centuries, but also the leap into electronic typesetting, remaining essentially unchanged. It was popularised in the 1960s with the release of Letraset sheets containin\n"
     ]
    }
   ],
   "source": [
    "for i in data1:\n",
    "    print(i)"
   ]
  },
  {
   "cell_type": "markdown",
   "id": "359daa25-54fc-40f5-877b-d0d86758e132",
   "metadata": {},
   "source": [
    "#### To know the size of the file"
   ]
  },
  {
   "cell_type": "code",
   "execution_count": 41,
   "id": "6bc4359a-98c7-49e6-b56c-6dc6ce220ac1",
   "metadata": {},
   "outputs": [],
   "source": [
    "import os"
   ]
  },
  {
   "cell_type": "code",
   "execution_count": 42,
   "id": "ef7461c3-d7d3-468e-a0c6-129c471a7f94",
   "metadata": {},
   "outputs": [
    {
     "data": {
      "text/plain": [
       "'/home/jovyan/work/03 Files/working_with_files'"
      ]
     },
     "execution_count": 42,
     "metadata": {},
     "output_type": "execute_result"
    }
   ],
   "source": [
    "pwd"
   ]
  },
  {
   "cell_type": "code",
   "execution_count": 43,
   "id": "942e6307-a4c9-403a-82c7-d3658b70ba42",
   "metadata": {},
   "outputs": [
    {
     "data": {
      "text/plain": [
       "459"
      ]
     },
     "execution_count": 43,
     "metadata": {},
     "output_type": "execute_result"
    }
   ],
   "source": [
    "os.path.getsize('test.txt')"
   ]
  },
  {
   "cell_type": "markdown",
   "id": "9a2d9409-1dca-49cc-9eef-6f95a2de8f7e",
   "metadata": {},
   "source": [
    "#### To delete"
   ]
  },
  {
   "cell_type": "code",
   "execution_count": 44,
   "id": "3aa1bcf8-a7f2-4db9-951a-0a249f939f95",
   "metadata": {},
   "outputs": [],
   "source": [
    "os.remove('test.txt')"
   ]
  },
  {
   "cell_type": "code",
   "execution_count": 45,
   "id": "71f25a0f-ba6f-4d97-bbf8-99e711412966",
   "metadata": {},
   "outputs": [],
   "source": [
    "f = open('test1.txt', 'w')"
   ]
  },
  {
   "cell_type": "code",
   "execution_count": 46,
   "id": "41bc93c6-c6f5-46bd-9be5-3a1e85384d80",
   "metadata": {},
   "outputs": [
    {
     "data": {
      "text/plain": [
       "459"
      ]
     },
     "execution_count": 46,
     "metadata": {},
     "output_type": "execute_result"
    }
   ],
   "source": [
    "f.write(\"this is my fileLorem Ipsum is simply dummy text of the printing and typesetting industry. Lorem Ipsum has been the industry's standard dummy text ever since the 1500s, when an unknown printer took a galley of type and scrambled it to make a type specimen book. It has survived not only five centuries, but also the leap into electronic typesetting, remaining essentially unchanged. It was popularised in the 1960s with the release of Letraset sheets containin\")"
   ]
  },
  {
   "cell_type": "code",
   "execution_count": 47,
   "id": "83727c17-45bf-4410-8e0b-a3a0b023cc86",
   "metadata": {},
   "outputs": [],
   "source": [
    "f.close()"
   ]
  },
  {
   "cell_type": "markdown",
   "id": "2d381187-d929-43a7-8943-d9991fd62a9f",
   "metadata": {},
   "source": [
    "### Rename file"
   ]
  },
  {
   "cell_type": "code",
   "execution_count": 48,
   "id": "3af1d791-b5f5-46cc-a1e9-9849be9eb05a",
   "metadata": {},
   "outputs": [],
   "source": [
    "os.rename('test1.txt', 'new.txt')"
   ]
  },
  {
   "cell_type": "markdown",
   "id": "c6f42ff0-0713-40f0-ac58-6e0373dc5014",
   "metadata": {},
   "source": [
    "### Create Copy"
   ]
  },
  {
   "cell_type": "code",
   "execution_count": 49,
   "id": "8c6d4c6d-72bc-4459-9e81-a284eebe69b5",
   "metadata": {},
   "outputs": [],
   "source": [
    "import shutil"
   ]
  },
  {
   "cell_type": "code",
   "execution_count": 50,
   "id": "324c9761-4108-4351-a3be-8f1c03111800",
   "metadata": {},
   "outputs": [
    {
     "data": {
      "text/plain": [
       "'copy_new.txt'"
      ]
     },
     "execution_count": 50,
     "metadata": {},
     "output_type": "execute_result"
    }
   ],
   "source": [
    "shutil.copy('new.txt', 'copy_new.txt')"
   ]
  },
  {
   "cell_type": "code",
   "execution_count": 51,
   "id": "a55068e4-a430-4e22-bb72-05ea07ae6cbb",
   "metadata": {},
   "outputs": [
    {
     "name": "stdout",
     "output_type": "stream",
     "text": [
      "this is my fileLorem Ipsum is simply dummy text of the printing and typesetting industry. Lorem Ipsum has been the industry's standard dummy text ever since the 1500s, when an unknown printer took a galley of type and scrambled it to make a type specimen book. It has survived not only five centuries, but also the leap into electronic typesetting, remaining essentially unchanged. It was popularised in the 1960s with the release of Letraset sheets containin\n"
     ]
    }
   ],
   "source": [
    "with open('new.txt', 'r') as f:\n",
    "    print(f.read())"
   ]
  },
  {
   "cell_type": "markdown",
   "id": "4a5ca8e5-23e3-47dd-8aff-e011edb6d9e9",
   "metadata": {},
   "source": [
    "# END"
   ]
  },
  {
   "cell_type": "code",
   "execution_count": null,
   "id": "3cf024ea-360b-49f6-8697-fd4a55202308",
   "metadata": {},
   "outputs": [],
   "source": []
  }
 ],
 "metadata": {
  "kernelspec": {
   "display_name": "Python 3 (ipykernel)",
   "language": "python",
   "name": "python3"
  },
  "language_info": {
   "codemirror_mode": {
    "name": "ipython",
    "version": 3
   },
   "file_extension": ".py",
   "mimetype": "text/x-python",
   "name": "python",
   "nbconvert_exporter": "python",
   "pygments_lexer": "ipython3",
   "version": "3.10.8"
  }
 },
 "nbformat": 4,
 "nbformat_minor": 5
}
