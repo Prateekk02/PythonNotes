{
 "cells": [
  {
   "cell_type": "markdown",
   "id": "c14e0ecf-e0c1-42ad-996a-d343b039bf75",
   "metadata": {},
   "source": [
    "## Reading and Writing Files"
   ]
  },
  {
   "cell_type": "code",
   "execution_count": 5,
   "id": "c1336741-55c1-4671-9455-422ab7bbcbf7",
   "metadata": {},
   "outputs": [],
   "source": [
    "data = {\n",
    "    \"name\" : \"anakin\",\n",
    "    \"mail\" : \"anakin@gmail.com\",\n",
    "    'phone' : 6666666666,\n",
    "    \"subject\" : ['form 4', 'force', 'lavitation']\n",
    "}"
   ]
  },
  {
   "cell_type": "code",
   "execution_count": 6,
   "id": "bfe8b48a-668a-415c-bca4-7e340549c938",
   "metadata": {},
   "outputs": [],
   "source": [
    "import json"
   ]
  },
  {
   "cell_type": "code",
   "execution_count": 7,
   "id": "40944639-ff4d-4bcc-a008-03ca7098e9ad",
   "metadata": {},
   "outputs": [],
   "source": [
    "with open('data.json','w') as f:\n",
    "    json.dump(data, f) "
   ]
  },
  {
   "cell_type": "markdown",
   "id": "3e95153c-8276-4c5c-8068-e1fa4afd1460",
   "metadata": {},
   "source": [
    "json.dump() --> used to write operation"
   ]
  },
  {
   "cell_type": "code",
   "execution_count": 8,
   "id": "e874bd89-9ccf-4ba9-ac35-3f83bfadbee0",
   "metadata": {},
   "outputs": [],
   "source": [
    "with open('data.json', 'r') as f:\n",
    "    data1 = json.load(f)"
   ]
  },
  {
   "cell_type": "markdown",
   "id": "e8c3c669-edfb-415e-baad-3ddb40aada31",
   "metadata": {},
   "source": [
    "json.load() --> used to read operation"
   ]
  },
  {
   "cell_type": "code",
   "execution_count": 9,
   "id": "4b33e430-7474-464f-b4db-f96179b02b42",
   "metadata": {},
   "outputs": [
    {
     "data": {
      "text/plain": [
       "['form 4', 'force', 'lavitation']"
      ]
     },
     "execution_count": 9,
     "metadata": {},
     "output_type": "execute_result"
    }
   ],
   "source": [
    "data1['subject']"
   ]
  },
  {
   "cell_type": "markdown",
   "id": "9a889ad0-d0ca-41f4-8030-77bd2a393609",
   "metadata": {},
   "source": [
    "### Comma Separated Value"
   ]
  },
  {
   "cell_type": "code",
   "execution_count": 10,
   "id": "6db3ce9c-b8eb-4beb-b3ac-189dda70ce24",
   "metadata": {},
   "outputs": [],
   "source": [
    "import csv"
   ]
  },
  {
   "cell_type": "code",
   "execution_count": 11,
   "id": "2eb406cc-e2b1-41d1-a9f3-79cc0a313d1a",
   "metadata": {},
   "outputs": [],
   "source": [
    "data = [ ['name', 'email', 'phone'],\n",
    "         ['anakin', 'anakin@gmail.com', 66666],\n",
    "         ['vader', 'vader@gmail.com', 535221],   \n",
    "]"
   ]
  },
  {
   "cell_type": "markdown",
   "id": "355d5270-8fc8-4053-93ab-95d226cff029",
   "metadata": {},
   "source": [
    "#### Writing the data in csv format"
   ]
  },
  {
   "cell_type": "code",
   "execution_count": 12,
   "id": "49b791d8-0ab3-4fe1-81d3-841700ee41fa",
   "metadata": {},
   "outputs": [],
   "source": [
    "with open('data.csv' , 'w') as f:\n",
    "    writer = csv.writer(f)\n",
    "    \n",
    "    for i in data:\n",
    "        writer.writerow(i)"
   ]
  },
  {
   "cell_type": "markdown",
   "id": "da746e88-6730-4cf1-9c5b-f590f23a5c31",
   "metadata": {},
   "source": [
    "#### Reading the data in csv format"
   ]
  },
  {
   "cell_type": "code",
   "execution_count": 13,
   "id": "a68e97a0-c824-4759-94ad-e30b8adfd793",
   "metadata": {},
   "outputs": [
    {
     "name": "stdout",
     "output_type": "stream",
     "text": [
      "['name', 'email', 'phone']\n",
      "['anakin', 'anakin@gmail.com', '66666']\n",
      "['vader', 'vader@gmail.com', '535221']\n"
     ]
    }
   ],
   "source": [
    "with open('data.csv', 'r') as f:\n",
    "    read_data = csv.reader(f)\n",
    "    \n",
    "    for i in read_data:\n",
    "        print(i)"
   ]
  },
  {
   "cell_type": "markdown",
   "id": "efd9e404-bc78-4d86-8c85-28b2d8e3dba5",
   "metadata": {},
   "source": [
    "### To Read Binary Data\n",
    "- Whenever any image or video is opened in text format that kind of data is called binary data.\n",
    "- It cannot be read without converting it into proper format"
   ]
  },
  {
   "cell_type": "code",
   "execution_count": 14,
   "id": "b816895b-a367-44a5-8ebc-9b60e9c1b543",
   "metadata": {},
   "outputs": [],
   "source": [
    "with open (\"test4.bin\", \"wb\") as f:\n",
    "    f.write(b\"\\x01\\x02\\x03\")"
   ]
  },
  {
   "cell_type": "markdown",
   "id": "858f55b4-c88f-4eb9-acb8-bbe3296db7e1",
   "metadata": {},
   "source": [
    "To read the bin file"
   ]
  },
  {
   "cell_type": "code",
   "execution_count": 15,
   "id": "adc5db5d-a9b5-4001-826f-5403cd577002",
   "metadata": {},
   "outputs": [
    {
     "name": "stdout",
     "output_type": "stream",
     "text": [
      "b'\\x01\\x02\\x03'\n"
     ]
    }
   ],
   "source": [
    "with open('test4.bin', 'rb') as f:\n",
    "    print(f.read())"
   ]
  },
  {
   "cell_type": "markdown",
   "id": "3fb9ebba-121e-4a0f-a928-d429362a218d",
   "metadata": {},
   "source": [
    "# END"
   ]
  }
 ],
 "metadata": {
  "kernelspec": {
   "display_name": "Python 3 (ipykernel)",
   "language": "python",
   "name": "python3"
  },
  "language_info": {
   "codemirror_mode": {
    "name": "ipython",
    "version": 3
   },
   "file_extension": ".py",
   "mimetype": "text/x-python",
   "name": "python",
   "nbconvert_exporter": "python",
   "pygments_lexer": "ipython3",
   "version": "3.10.8"
  }
 },
 "nbformat": 4,
 "nbformat_minor": 5
}
