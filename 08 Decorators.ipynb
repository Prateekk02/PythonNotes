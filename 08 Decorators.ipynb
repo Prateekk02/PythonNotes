{
 "cells": [
  {
   "cell_type": "markdown",
   "id": "ef86a002-9abe-4ee3-a885-b653b3a51ead",
   "metadata": {},
   "source": [
    "# Decorators"
   ]
  },
  {
   "cell_type": "markdown",
   "id": "879fc6c7-b931-4fe8-ab98-b7b722c0eb17",
   "metadata": {},
   "source": [
    "- <i>A decorator is a design pattern in Python that allows a user to add new functionality to an existing object without modifying its structure.</i>"
   ]
  },
  {
   "cell_type": "code",
   "execution_count": 3,
   "id": "f9d0c3f2-9f5c-4c85-8515-839fd6f3a18a",
   "metadata": {},
   "outputs": [],
   "source": [
    "def test():\n",
    "    print('this is start of func')\n",
    "    print('this is my fun to test')\n",
    "    print('this is end of func')"
   ]
  },
  {
   "cell_type": "code",
   "execution_count": 4,
   "id": "6580d76f-9a04-4d9d-84b1-653853ca5647",
   "metadata": {},
   "outputs": [
    {
     "name": "stdout",
     "output_type": "stream",
     "text": [
      "this is start of func\n",
      "this is my fun to test\n",
      "this is end of func\n"
     ]
    }
   ],
   "source": [
    "test()"
   ]
  },
  {
   "cell_type": "markdown",
   "id": "df189516-1948-48c1-8836-16b0867f6dea",
   "metadata": {},
   "source": [
    "- In order to make this process where we always need to print a statement stating start and end of a function we can use decorators"
   ]
  },
  {
   "cell_type": "code",
   "execution_count": 9,
   "id": "dfe3043d-5e01-44cf-a3e4-b8b86f0ddfc8",
   "metadata": {},
   "outputs": [],
   "source": [
    "# Decorator function\n",
    "def deco(func):\n",
    "    def innerDec():\n",
    "        print('this is the start of function')\n",
    "        func()\n",
    "        print('this is the end of function')\n",
    "    return innerDec"
   ]
  },
  {
   "cell_type": "code",
   "execution_count": 10,
   "id": "5c3cec00-cd10-42df-8136-3a21664fbc06",
   "metadata": {},
   "outputs": [],
   "source": [
    "def test1():\n",
    "    print(6+7)"
   ]
  },
  {
   "cell_type": "code",
   "execution_count": 11,
   "id": "9b29e4ef-a420-48fc-974d-7da82b24dbc3",
   "metadata": {},
   "outputs": [
    {
     "name": "stdout",
     "output_type": "stream",
     "text": [
      "13\n"
     ]
    }
   ],
   "source": [
    "test1()"
   ]
  },
  {
   "cell_type": "code",
   "execution_count": 12,
   "id": "0ece9c38-12eb-4c4b-a848-e6e38e0c763d",
   "metadata": {},
   "outputs": [],
   "source": [
    "@deco\n",
    "def test1():\n",
    "    print(6+7)"
   ]
  },
  {
   "cell_type": "code",
   "execution_count": 13,
   "id": "afed4ada-ee85-4cd8-8544-a67deb01439d",
   "metadata": {},
   "outputs": [
    {
     "name": "stdout",
     "output_type": "stream",
     "text": [
      "this is the start of function\n",
      "13\n",
      "this is the end of function\n"
     ]
    }
   ],
   "source": [
    "test1()"
   ]
  },
  {
   "cell_type": "markdown",
   "id": "1173b24f-0953-42e0-944b-93f464e8dd26",
   "metadata": {},
   "source": [
    "- To find time taken by funtions to execute."
   ]
  },
  {
   "cell_type": "code",
   "execution_count": 14,
   "id": "efb420a9-6275-4afc-841e-9065e873bc90",
   "metadata": {},
   "outputs": [],
   "source": [
    "import time\n",
    "def timerTest(func):\n",
    "    def timer_test_inner():\n",
    "        start = time.time()\n",
    "        func()\n",
    "        end = time.time()\n",
    "        print(end - start)\n",
    "    return timer_test_inner"
   ]
  },
  {
   "cell_type": "code",
   "execution_count": 15,
   "id": "1835a5ae-6d89-493b-926f-71caa73e0361",
   "metadata": {},
   "outputs": [],
   "source": [
    "def test2():\n",
    "    print(45+45)"
   ]
  },
  {
   "cell_type": "code",
   "execution_count": 16,
   "id": "8e739be7-2117-4ae2-813f-de40c3352c20",
   "metadata": {},
   "outputs": [
    {
     "name": "stdout",
     "output_type": "stream",
     "text": [
      "90\n"
     ]
    }
   ],
   "source": [
    "test2()"
   ]
  },
  {
   "cell_type": "code",
   "execution_count": 17,
   "id": "41de742b-ee19-42fd-a9a6-0602880d31bb",
   "metadata": {},
   "outputs": [],
   "source": [
    "@timerTest\n",
    "def test2():\n",
    "    print(45+45)"
   ]
  },
  {
   "cell_type": "code",
   "execution_count": 16,
   "id": "2c8e5549-e120-484a-8930-e8b0eebafb87",
   "metadata": {},
   "outputs": [
    {
     "name": "stdout",
     "output_type": "stream",
     "text": [
      "90\n",
      "4.458427429199219e-05\n"
     ]
    }
   ],
   "source": [
    "test2()"
   ]
  },
  {
   "cell_type": "code",
   "execution_count": 18,
   "id": "a713cd68-05ba-481e-a559-ecc281162f76",
   "metadata": {},
   "outputs": [],
   "source": [
    "@timerTest\n",
    "def test3():\n",
    "    for i in range(100000):\n",
    "        pass"
   ]
  },
  {
   "cell_type": "code",
   "execution_count": 19,
   "id": "d01662b7-30c9-40a0-8977-eecdc82949a3",
   "metadata": {},
   "outputs": [
    {
     "name": "stdout",
     "output_type": "stream",
     "text": [
      "0.002150297164916992\n"
     ]
    }
   ],
   "source": [
    "test3()"
   ]
  },
  {
   "cell_type": "markdown",
   "id": "31a68ba8-3462-474b-8fb9-1912d271866d",
   "metadata": {},
   "source": [
    "# END"
   ]
  }
 ],
 "metadata": {
  "kernelspec": {
   "display_name": "Python 3 (ipykernel)",
   "language": "python",
   "name": "python3"
  },
  "language_info": {
   "codemirror_mode": {
    "name": "ipython",
    "version": 3
   },
   "file_extension": ".py",
   "mimetype": "text/x-python",
   "name": "python",
   "nbconvert_exporter": "python",
   "pygments_lexer": "ipython3",
   "version": "3.10.8"
  }
 },
 "nbformat": 4,
 "nbformat_minor": 5
}
