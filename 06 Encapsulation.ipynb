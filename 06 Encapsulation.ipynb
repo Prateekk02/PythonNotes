{
 "cells": [
  {
   "cell_type": "markdown",
   "id": "ef419b33-31ec-4d0b-8045-dd54b3c215cc",
   "metadata": {},
   "source": [
    "# Encapsulation"
   ]
  },
  {
   "cell_type": "code",
   "execution_count": 2,
   "id": "49aae339-ce37-4af1-865c-5af1c282b8c4",
   "metadata": {},
   "outputs": [],
   "source": [
    "class test:\n",
    "    \n",
    "    def __init__(self,a,b):\n",
    "        self.a = a\n",
    "        self.b = b\n",
    "        "
   ]
  },
  {
   "cell_type": "code",
   "execution_count": 6,
   "id": "1cb523ec-b9b9-4e54-a879-4086fc22f680",
   "metadata": {},
   "outputs": [],
   "source": [
    "t = test(23,34)"
   ]
  },
  {
   "cell_type": "code",
   "execution_count": 7,
   "id": "0a62dcc3-7711-419d-9c35-b32478398570",
   "metadata": {},
   "outputs": [
    {
     "data": {
      "text/plain": [
       "23"
      ]
     },
     "execution_count": 7,
     "metadata": {},
     "output_type": "execute_result"
    }
   ],
   "source": [
    "t.a   # Press tab after writing t. you will get suggestions "
   ]
  },
  {
   "cell_type": "code",
   "execution_count": 4,
   "id": "84e5f498-c539-42db-b232-11a35e640f36",
   "metadata": {},
   "outputs": [],
   "source": [
    "t.a = 2342342"
   ]
  },
  {
   "cell_type": "code",
   "execution_count": 5,
   "id": "f2748309-d9ee-4790-888d-839132a8f573",
   "metadata": {},
   "outputs": [
    {
     "data": {
      "text/plain": [
       "2342342"
      ]
     },
     "execution_count": 5,
     "metadata": {},
     "output_type": "execute_result"
    }
   ],
   "source": [
    "t.a"
   ]
  },
  {
   "cell_type": "markdown",
   "id": "d86622a6-b229-4c5c-b7d0-972914a0d385",
   "metadata": {},
   "source": [
    "Here the value of variable a changes."
   ]
  },
  {
   "cell_type": "markdown",
   "id": "08777b99-f245-4eda-960b-e4c1330a388b",
   "metadata": {},
   "source": [
    "We want to prevent this."
   ]
  },
  {
   "cell_type": "code",
   "execution_count": 9,
   "id": "db960b1c-b834-4137-b439-5add1a721597",
   "metadata": {},
   "outputs": [],
   "source": [
    "class car:\n",
    "    def __init__(self, year, make, model, speed):\n",
    "        self.__year = year\n",
    "        self.__make = make\n",
    "        self.__model = model\n",
    "        self.__speed = 0\n",
    "        \n",
    "    def set_speed(self, speed):\n",
    "        self.__speed = 0 if speed<0 else speed\n",
    "    def get_speed(self):\n",
    "        return self.__speed"
   ]
  },
  {
   "cell_type": "code",
   "execution_count": 10,
   "id": "3ad9f553-dc13-48cc-8575-cf782663d2d9",
   "metadata": {},
   "outputs": [],
   "source": [
    "c = car(2021 , 'toyata', 'innova', 12)"
   ]
  },
  {
   "cell_type": "code",
   "execution_count": 5,
   "id": "119a82e6-f7b4-4a17-be39-3fe7dc936b00",
   "metadata": {},
   "outputs": [
    {
     "ename": "AttributeError",
     "evalue": "'car' object has no attribute 'year'",
     "output_type": "error",
     "traceback": [
      "\u001b[0;31m---------------------------------------------------------------------------\u001b[0m",
      "\u001b[0;31mAttributeError\u001b[0m                            Traceback (most recent call last)",
      "Cell \u001b[0;32mIn[5], line 1\u001b[0m\n\u001b[0;32m----> 1\u001b[0m \u001b[43mc\u001b[49m\u001b[38;5;241;43m.\u001b[39;49m\u001b[43myear\u001b[49m \u001b[38;5;66;03m#Press tab after c. you will not get suggestions.\u001b[39;00m\n",
      "\u001b[0;31mAttributeError\u001b[0m: 'car' object has no attribute 'year'"
     ]
    }
   ],
   "source": [
    "c.year #Press tab after c. you will not get suggestions."
   ]
  },
  {
   "cell_type": "code",
   "execution_count": 6,
   "id": "bc2a1417-05ff-4d31-992b-fabd256c7e73",
   "metadata": {},
   "outputs": [
    {
     "ename": "AttributeError",
     "evalue": "'car' object has no attribute '__year'",
     "output_type": "error",
     "traceback": [
      "\u001b[0;31m---------------------------------------------------------------------------\u001b[0m",
      "\u001b[0;31mAttributeError\u001b[0m                            Traceback (most recent call last)",
      "Cell \u001b[0;32mIn[6], line 1\u001b[0m\n\u001b[0;32m----> 1\u001b[0m \u001b[43mc\u001b[49m\u001b[38;5;241;43m.\u001b[39;49m\u001b[43m__year\u001b[49m\n",
      "\u001b[0;31mAttributeError\u001b[0m: 'car' object has no attribute '__year'"
     ]
    }
   ],
   "source": [
    " c.__year"
   ]
  },
  {
   "cell_type": "code",
   "execution_count": 8,
   "id": "d1c50ac7-4179-4eb2-a7e6-aaa3743129fa",
   "metadata": {},
   "outputs": [
    {
     "data": {
      "text/plain": [
       "2021"
      ]
     },
     "execution_count": 8,
     "metadata": {},
     "output_type": "execute_result"
    }
   ],
   "source": [
    "c._car__year  # <obj name>._<class name>__<attribute name>"
   ]
  },
  {
   "cell_type": "code",
   "execution_count": 11,
   "id": "d34dc499-7fcb-4b98-b836-7d6bb21c4abb",
   "metadata": {},
   "outputs": [
    {
     "data": {
      "text/plain": [
       "0"
      ]
     },
     "execution_count": 11,
     "metadata": {},
     "output_type": "execute_result"
    }
   ],
   "source": [
    "c.get_speed()"
   ]
  },
  {
   "cell_type": "code",
   "execution_count": 13,
   "id": "cbca311e-a73a-45da-a56c-1dde80ec1eec",
   "metadata": {},
   "outputs": [],
   "source": [
    "c.set_speed(50)"
   ]
  },
  {
   "cell_type": "code",
   "execution_count": 14,
   "id": "88139d6b-a7f8-4435-811c-76e81f741da3",
   "metadata": {},
   "outputs": [
    {
     "data": {
      "text/plain": [
       "50"
      ]
     },
     "execution_count": 14,
     "metadata": {},
     "output_type": "execute_result"
    }
   ],
   "source": [
    "c.get_speed()"
   ]
  },
  {
   "cell_type": "code",
   "execution_count": 17,
   "id": "5e70474c-3fd6-4371-8e85-38b4f7fc7f18",
   "metadata": {},
   "outputs": [],
   "source": [
    "class bank_account:\n",
    "    def __init__(self, balance):\n",
    "        self.__balance = balance\n",
    "    def deposit(self, amount):\n",
    "        self.__balance = self.__balance + amount\n",
    "    def withdraw(self, amount):\n",
    "        if self.__balance >=amount:\n",
    "            self.__balance = self.__balance - amount\n",
    "            return True\n",
    "        else:\n",
    "            return False\n",
    "    def get_balance(self):\n",
    "        return self.__balance"
   ]
  },
  {
   "cell_type": "code",
   "execution_count": 20,
   "id": "bec6ed7f-fe59-42dc-a9e5-10a784c61685",
   "metadata": {},
   "outputs": [],
   "source": [
    "prateek = bank_account(1000)"
   ]
  },
  {
   "cell_type": "code",
   "execution_count": 22,
   "id": "0dbbe457-fb71-43f6-a15a-a577c8657f68",
   "metadata": {},
   "outputs": [
    {
     "data": {
      "text/plain": [
       "1000"
      ]
     },
     "execution_count": 22,
     "metadata": {},
     "output_type": "execute_result"
    }
   ],
   "source": [
    "prateek.get_balance()"
   ]
  },
  {
   "cell_type": "code",
   "execution_count": 23,
   "id": "df3dc358-18db-41d5-9297-331cfbb44cb8",
   "metadata": {},
   "outputs": [],
   "source": [
    "prateek.deposit(5000)"
   ]
  },
  {
   "cell_type": "code",
   "execution_count": 24,
   "id": "2c40ed0f-9503-47d8-b147-20c7bcbfcdb7",
   "metadata": {},
   "outputs": [
    {
     "data": {
      "text/plain": [
       "6000"
      ]
     },
     "execution_count": 24,
     "metadata": {},
     "output_type": "execute_result"
    }
   ],
   "source": [
    "prateek.get_balance()"
   ]
  },
  {
   "cell_type": "code",
   "execution_count": 25,
   "id": "da13802a-1073-44b5-ac89-ffe4d94a2128",
   "metadata": {},
   "outputs": [
    {
     "data": {
      "text/plain": [
       "True"
      ]
     },
     "execution_count": 25,
     "metadata": {},
     "output_type": "execute_result"
    }
   ],
   "source": [
    "prateek.withdraw(542)"
   ]
  },
  {
   "cell_type": "code",
   "execution_count": 26,
   "id": "09dfb3c0-5072-44b1-8275-b00792f107ff",
   "metadata": {},
   "outputs": [
    {
     "data": {
      "text/plain": [
       "5458"
      ]
     },
     "execution_count": 26,
     "metadata": {},
     "output_type": "execute_result"
    }
   ],
   "source": [
    "prateek.get_balance()"
   ]
  },
  {
   "cell_type": "markdown",
   "id": "35e0b23b-367c-40fb-b502-d621b5931ac9",
   "metadata": {},
   "source": [
    "# END"
   ]
  }
 ],
 "metadata": {
  "kernelspec": {
   "display_name": "Python 3 (ipykernel)",
   "language": "python",
   "name": "python3"
  },
  "language_info": {
   "codemirror_mode": {
    "name": "ipython",
    "version": 3
   },
   "file_extension": ".py",
   "mimetype": "text/x-python",
   "name": "python",
   "nbconvert_exporter": "python",
   "pygments_lexer": "ipython3",
   "version": "3.10.8"
  }
 },
 "nbformat": 4,
 "nbformat_minor": 5
}
