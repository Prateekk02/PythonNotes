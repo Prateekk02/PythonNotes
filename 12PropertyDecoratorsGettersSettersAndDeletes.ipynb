{
 "cells": [
  {
   "cell_type": "markdown",
   "id": "5491fa1c-31d3-4462-81c0-2da52b4592de",
   "metadata": {},
   "source": [
    "# Property Decorators Getter, Setters, And Deletes"
   ]
  },
  {
   "cell_type": "markdown",
   "id": "d7772d98-5dfb-4fd2-8d47-ffb8f8845155",
   "metadata": {},
   "source": [
    "NOTE: '_' --> protected, and '__' --> private"
   ]
  },
  {
   "cell_type": "code",
   "execution_count": 7,
   "id": "1c2ee652-266d-411a-b07d-194d8cc8f494",
   "metadata": {},
   "outputs": [],
   "source": [
    "class pwskills:\n",
    "    def __init__(self, course_price , course_name):\n",
    "        self.__course_price = course_price\n",
    "        self.course_name = course_name\n",
    "    @property\n",
    "    def course_price_access(self):\n",
    "        return self.__course_price"
   ]
  },
  {
   "cell_type": "code",
   "execution_count": 8,
   "id": "7b40671d-b9a3-468a-b187-ab85d0489702",
   "metadata": {},
   "outputs": [],
   "source": [
    "pw = pwskills(3500, 'data science master')"
   ]
  },
  {
   "cell_type": "code",
   "execution_count": 5,
   "id": "e7f3a45c-09b6-4841-ba64-526647097bd6",
   "metadata": {},
   "outputs": [
    {
     "data": {
      "text/plain": [
       "'data science master'"
      ]
     },
     "execution_count": 5,
     "metadata": {},
     "output_type": "execute_result"
    }
   ],
   "source": [
    "pw.course_name"
   ]
  },
  {
   "cell_type": "code",
   "execution_count": 6,
   "id": "5ce82916-f27f-4112-bee2-b36ae7be9543",
   "metadata": {},
   "outputs": [
    {
     "data": {
      "text/plain": [
       "3500"
      ]
     },
     "execution_count": 6,
     "metadata": {},
     "output_type": "execute_result"
    }
   ],
   "source": [
    "pw._pwskills__course_price"
   ]
  },
  {
   "cell_type": "code",
   "execution_count": 9,
   "id": "08ed42ba-6bd5-4988-8375-83d016cbd4ef",
   "metadata": {},
   "outputs": [
    {
     "data": {
      "text/plain": [
       "3500"
      ]
     },
     "execution_count": 9,
     "metadata": {},
     "output_type": "execute_result"
    }
   ],
   "source": [
    "pw.course_price_access"
   ]
  },
  {
   "cell_type": "markdown",
   "id": "e54ce77f-0ea7-42dd-8aca-a0e7da9a7c0d",
   "metadata": {},
   "source": [
    "- Therefore with the help of @property we are able to access private members of class"
   ]
  },
  {
   "cell_type": "markdown",
   "id": "ff76b3d2-1521-49fb-8478-7a3558047429",
   "metadata": {},
   "source": [
    "- But with this method we can only see the private member."
   ]
  },
  {
   "cell_type": "markdown",
   "id": "66c0397c-caf7-49dd-a3f1-cc720c214250",
   "metadata": {},
   "source": [
    "- In order to modify we will use :-"
   ]
  },
  {
   "cell_type": "code",
   "execution_count": 28,
   "id": "371ae732-0112-46ee-b02a-7d3a32a79c9d",
   "metadata": {},
   "outputs": [],
   "source": [
    "class pwskills1:\n",
    "    def __init__(self, course_price , course_name):\n",
    "        self.__course_price = course_price\n",
    "        self.course_name = course_name\n",
    "    @property\n",
    "    def course_price_access(self):\n",
    "        return self.__course_price\n",
    "    @course_price_access.setter\n",
    "    def course_price_set(self, price):\n",
    "        if price <=3500:\n",
    "            pass\n",
    "        else: \n",
    "            self.__course_price = price\n",
    "    @course_price_access.deleter\n",
    "    def delete_course_price(self):\n",
    "        del self.__course_price"
   ]
  },
  {
   "cell_type": "code",
   "execution_count": 13,
   "id": "22fb921c-0550-4d65-93ed-6b978c7291ad",
   "metadata": {},
   "outputs": [],
   "source": [
    "pw1 = pwskills1(4000,'data science master')"
   ]
  },
  {
   "cell_type": "code",
   "execution_count": 15,
   "id": "8f04d4a7-5323-4b1c-9cd1-7c4f904d5378",
   "metadata": {},
   "outputs": [
    {
     "data": {
      "text/plain": [
       "'data science master'"
      ]
     },
     "execution_count": 15,
     "metadata": {},
     "output_type": "execute_result"
    }
   ],
   "source": [
    "pw1.course_name"
   ]
  },
  {
   "cell_type": "code",
   "execution_count": 16,
   "id": "293d1878-764e-4f96-90ca-4d3cdc540ff7",
   "metadata": {},
   "outputs": [
    {
     "data": {
      "text/plain": [
       "4000"
      ]
     },
     "execution_count": 16,
     "metadata": {},
     "output_type": "execute_result"
    }
   ],
   "source": [
    "pw1.course_price_access"
   ]
  },
  {
   "cell_type": "code",
   "execution_count": 22,
   "id": "962cb30d-5968-40e1-ae08-40f3525d0bd5",
   "metadata": {},
   "outputs": [],
   "source": [
    "pw1.course_price_set = 4500"
   ]
  },
  {
   "cell_type": "code",
   "execution_count": 23,
   "id": "7fbe233e-8155-4114-8205-c35fa974c318",
   "metadata": {},
   "outputs": [
    {
     "data": {
      "text/plain": [
       "4500"
      ]
     },
     "execution_count": 23,
     "metadata": {},
     "output_type": "execute_result"
    }
   ],
   "source": [
    "pw1.course_price_access"
   ]
  },
  {
   "cell_type": "code",
   "execution_count": 29,
   "id": "d93d244d-667b-4488-b7ec-885e577e2804",
   "metadata": {},
   "outputs": [],
   "source": [
    "# To delete \n",
    "pw2 = pwskills1('3500', 'web dev')"
   ]
  },
  {
   "cell_type": "code",
   "execution_count": 31,
   "id": "42c4b5de-920b-482b-bd9b-148c76f73e3b",
   "metadata": {},
   "outputs": [
    {
     "data": {
      "text/plain": [
       "'web dev'"
      ]
     },
     "execution_count": 31,
     "metadata": {},
     "output_type": "execute_result"
    }
   ],
   "source": [
    "pw2.course_name"
   ]
  },
  {
   "cell_type": "code",
   "execution_count": 33,
   "id": "0993259c-b2af-496d-b7b0-fa496466a49a",
   "metadata": {},
   "outputs": [
    {
     "data": {
      "text/plain": [
       "'3500'"
      ]
     },
     "execution_count": 33,
     "metadata": {},
     "output_type": "execute_result"
    }
   ],
   "source": [
    "pw2.course_price_access"
   ]
  },
  {
   "cell_type": "code",
   "execution_count": 34,
   "id": "8921cf16-9f65-455f-aa6f-07455c2b4e20",
   "metadata": {},
   "outputs": [],
   "source": [
    "del pw2.delete_course_price"
   ]
  },
  {
   "cell_type": "code",
   "execution_count": 35,
   "id": "18a3b97e-2f99-42b5-8e85-953e384865e3",
   "metadata": {},
   "outputs": [
    {
     "ename": "AttributeError",
     "evalue": "'pwskills1' object has no attribute '_pwskills1__course_price'",
     "output_type": "error",
     "traceback": [
      "\u001b[0;31m---------------------------------------------------------------------------\u001b[0m",
      "\u001b[0;31mAttributeError\u001b[0m                            Traceback (most recent call last)",
      "Cell \u001b[0;32mIn[35], line 1\u001b[0m\n\u001b[0;32m----> 1\u001b[0m \u001b[43mpw2\u001b[49m\u001b[38;5;241;43m.\u001b[39;49m\u001b[43mcourse_price_access\u001b[49m\n",
      "Cell \u001b[0;32mIn[28], line 7\u001b[0m, in \u001b[0;36mpwskills1.course_price_access\u001b[0;34m(self)\u001b[0m\n\u001b[1;32m      5\u001b[0m \u001b[38;5;129m@property\u001b[39m\n\u001b[1;32m      6\u001b[0m \u001b[38;5;28;01mdef\u001b[39;00m \u001b[38;5;21mcourse_price_access\u001b[39m(\u001b[38;5;28mself\u001b[39m):\n\u001b[0;32m----> 7\u001b[0m     \u001b[38;5;28;01mreturn\u001b[39;00m \u001b[38;5;28;43mself\u001b[39;49m\u001b[38;5;241;43m.\u001b[39;49m\u001b[43m__course_price\u001b[49m\n",
      "\u001b[0;31mAttributeError\u001b[0m: 'pwskills1' object has no attribute '_pwskills1__course_price'"
     ]
    }
   ],
   "source": [
    "pw2.course_price_access"
   ]
  },
  {
   "cell_type": "markdown",
   "id": "a1afe342-d2c3-4802-9b0f-dc9bb15eb0e0",
   "metadata": {},
   "source": [
    "# END"
   ]
  }
 ],
 "metadata": {
  "kernelspec": {
   "display_name": "Python 3 (ipykernel)",
   "language": "python",
   "name": "python3"
  },
  "language_info": {
   "codemirror_mode": {
    "name": "ipython",
    "version": 3
   },
   "file_extension": ".py",
   "mimetype": "text/x-python",
   "name": "python",
   "nbconvert_exporter": "python",
   "pygments_lexer": "ipython3",
   "version": "3.10.8"
  }
 },
 "nbformat": 4,
 "nbformat_minor": 5
}
