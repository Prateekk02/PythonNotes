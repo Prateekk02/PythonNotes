{
 "cells": [
  {
   "cell_type": "markdown",
   "id": "aa063f10-74b1-4fa8-a859-a45c716c9197",
   "metadata": {},
   "source": [
    "# Best Practice Exception Handling"
   ]
  },
  {
   "cell_type": "markdown",
   "id": "488e7405-df38-4da3-8c2c-568427179e88",
   "metadata": {},
   "source": [
    "- Always use specific exception"
   ]
  },
  {
   "cell_type": "code",
   "execution_count": 1,
   "id": "23207b30-101b-4a48-a4a7-a966d99498a4",
   "metadata": {},
   "outputs": [],
   "source": [
    "import logging\n",
    "logging.basicConfig(filename='expt_handling.log', level=logging.DEBUG, format = '%(asctime)s %(message)s')"
   ]
  },
  {
   "cell_type": "code",
   "execution_count": 2,
   "id": "ab5a551f-291e-42f1-a886-fae63eb96a2e",
   "metadata": {},
   "outputs": [],
   "source": [
    "try:\n",
    "    10/0\n",
    "except ZeroDivisionError as e:\n",
    "    \n",
    "    logging.error(msg = 'Handling zero division error {}'.format(e))"
   ]
  },
  {
   "cell_type": "markdown",
   "id": "7525e80e-e86b-4969-95f4-d8cc2ccbef06",
   "metadata": {},
   "source": [
    "- Always print a proper message.\n",
    "- Always try to log your error.\n",
    "- Always avoid to write a multiple exception handling.\n",
    "- Document all the error.\n",
    "- Clean up all the resources."
   ]
  },
  {
   "cell_type": "code",
   "execution_count": 5,
   "id": "0a6f6cd0-e700-445f-8ee9-d91d555e5802",
   "metadata": {},
   "outputs": [],
   "source": [
    "try:\n",
    "    with open('text.txt', 'w') as f:\n",
    "        f.write(\"This is my data to file\")\n",
    "except FileNotFoundError as e:\n",
    "    logging.error(\"Not able to find file {}\".format(e))\n",
    "finally:\n",
    "    f.close()"
   ]
  },
  {
   "cell_type": "markdown",
   "id": "fe78a65a-d46c-4431-84e7-29a3a280240a",
   "metadata": {},
   "source": [
    "# END"
   ]
  }
 ],
 "metadata": {
  "kernelspec": {
   "display_name": "Python 3 (ipykernel)",
   "language": "python",
   "name": "python3"
  },
  "language_info": {
   "codemirror_mode": {
    "name": "ipython",
    "version": 3
   },
   "file_extension": ".py",
   "mimetype": "text/x-python",
   "name": "python",
   "nbconvert_exporter": "python",
   "pygments_lexer": "ipython3",
   "version": "3.10.8"
  }
 },
 "nbformat": 4,
 "nbformat_minor": 5
}
